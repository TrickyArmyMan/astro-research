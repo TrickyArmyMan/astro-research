{
 "cells": [
  {
   "cell_type": "code",
   "execution_count": 1,
   "id": "dc2eec6e-2171-4314-8248-b3f4933cc2c2",
   "metadata": {},
   "outputs": [],
   "source": [
    "import numpy as np\n",
    "import pandas as pd\n",
    "import seaborn as sns\n",
    "import matplotlib.pyplot as plt"
   ]
  },
  {
   "cell_type": "code",
   "execution_count": 2,
   "id": "10bc2e25-e2bf-4200-8290-bb15f733415e",
   "metadata": {},
   "outputs": [],
   "source": [
    "agn_dataframe = pd.read_csv('agn_dataframe.csv')"
   ]
  },
  {
   "cell_type": "code",
   "execution_count": 3,
   "id": "1d179612-0b97-4b5b-8359-5b83a3bb61fb",
   "metadata": {},
   "outputs": [],
   "source": [
    "flag = [float('inf')]\n",
    "\n",
    "# Converts a string into a float list.\n",
    "# String must be in the following format:\n",
    "# '[1.01, 2.02, 3.03, 4.04]'\n",
    "# Returns an array of len=1 with the one index='inf' if the String\n",
    "# cannont be converted into a list of floats.\n",
    "# Takes an optional string char for the characters to split by\n",
    "def convert_to_float_list(str_list, **kwargs):\n",
    "    char = kwargs.get('char', None)\n",
    "    debug = kwargs.get('debug', False)\n",
    "    \n",
    "    if debug:\n",
    "        print(str_list + ' foo')\n",
    "        \n",
    "    str_list = str_list.replace('[', '')\n",
    "    str_list = str_list.replace(']', '')\n",
    "    \n",
    "    if debug:\n",
    "        print(str_list + ' bar')\n",
    "    \n",
    "    try:\n",
    "        return [float(i) for i in str_list.split(char)]\n",
    "    except ValueError:\n",
    "        return flag"
   ]
  },
  {
   "cell_type": "markdown",
   "id": "2f21c225-4451-4c1b-a5d5-c8386e220f08",
   "metadata": {
    "jp-MarkdownHeadingCollapsed": true,
    "tags": []
   },
   "source": [
    "### Light curve of 0.22032 -7.1532 ZTFG"
   ]
  },
  {
   "cell_type": "code",
   "execution_count": null,
   "id": "419d51b3-8cab-4c03-a0ed-2421e6065953",
   "metadata": {},
   "outputs": [],
   "source": [
    "agn_example = pd.read_csv('../../AGN_LightCurves/0.2032_-7.1532_ztfg.parquet')\n",
    "plt.figure(figsize=[12,6])\n",
    "plt.errorbar(agn_example['mjd'], agn_example['mag'], yerr=agn_example['magerr'], \n",
    "             linestyle='solid', marker='.', alpha=0.5, ecolor='0.3', label='0.2032 -7.1532 ZTFG')\n",
    "plt.gca().invert_yaxis()\n",
    "plt.xlabel('MJD')\n",
    "plt.ylabel('mag')\n",
    "plt.legend()\n",
    "plt.show()"
   ]
  },
  {
   "cell_type": "markdown",
   "id": "8090c370-7e55-45bf-90f5-a789fe7a295d",
   "metadata": {
    "jp-MarkdownHeadingCollapsed": true,
    "tags": []
   },
   "source": [
    "### Light curve of 1.0082 70.3217 ZTFG"
   ]
  },
  {
   "cell_type": "code",
   "execution_count": null,
   "id": "75df804e-4627-4a61-b236-2027ad2feb64",
   "metadata": {},
   "outputs": [],
   "source": [
    "agn_example = pd.read_csv('../../AGN_LightCurves/1.0082_70.3217_ztfg.parquet')\n",
    "plt.figure(figsize=[12,6])\n",
    "plt.errorbar(agn_example['mjd'], agn_example['mag'], yerr=agn_example['magerr'], \n",
    "             linestyle='solid', marker='.', alpha=0.5, ecolor='0.3', label='1.0082 70.3217 ZTFG')\n",
    "plt.gca().invert_yaxis()\n",
    "plt.xlabel('MJD')\n",
    "plt.ylabel('mag')\n",
    "plt.legend()\n",
    "plt.show()"
   ]
  },
  {
   "cell_type": "markdown",
   "id": "8e4173fe-8448-4030-b8b2-0eb234a97870",
   "metadata": {
    "jp-MarkdownHeadingCollapsed": true,
    "tags": []
   },
   "source": [
    "### SNR, LC Length, and log Lbol"
   ]
  },
  {
   "cell_type": "code",
   "execution_count": null,
   "id": "37106cf9-efd7-4be9-abd3-a6c6aee54717",
   "metadata": {},
   "outputs": [],
   "source": [
    "fig, axs = plt.subplots(3, 2, figsize=(16, 12))\n",
    "\n",
    "row = 0\n",
    "# SNR vs log LBol\n",
    "sns.scatterplot(data=agn_dataframe, x='SNR', y ='log_Lbol', hue='Best Fit', ax=axs[row,0])\n",
    "axs[row, 0].set_xlim(0, 1500) \n",
    "# LC Length vs log LBol\n",
    "sns.scatterplot(data=agn_dataframe, x='LC Length', y ='log_Lbol', hue='Best Fit', ax=axs[row,1])\n",
    "\n",
    "row += 1\n",
    "# histogram of LC Length\n",
    "sns.histplot(data=agn_dataframe, x='LC Length', ax=axs[row,0])\n",
    "# histogram of LC Length for best fit\n",
    "sns.histplot(data=agn_dataframe, x='LC Length', hue='Best Fit', ax=axs[row,1])\n",
    "\n",
    "row += 1\n",
    "# histogram of log LBol for best fit\n",
    "sns.histplot(data=agn_dataframe, x='log_Lbol', hue='Best Fit', ax=axs[row,0])\n",
    "# histogram of SNR for best fit\n",
    "sns.histplot(data=agn_dataframe, x='SNR', hue='Best Fit', ax=axs[row,1])\n",
    "axs[row, 1].set_xlim(0, 1500) \n",
    "\n",
    "plt.show()"
   ]
  },
  {
   "cell_type": "markdown",
   "id": "2f78a502-70c8-44d7-9bbc-ecdf46bc17bc",
   "metadata": {
    "jp-MarkdownHeadingCollapsed": true,
    "tags": []
   },
   "source": [
    "### DRW tau and amp"
   ]
  },
  {
   "cell_type": "code",
   "execution_count": null,
   "id": "b78c0205-7ab9-4f25-b11f-fecb0ec8715e",
   "metadata": {},
   "outputs": [],
   "source": [
    "best_fits = []\n",
    "taus = []\n",
    "amps = []\n",
    "Lbols = []\n",
    "\n",
    "for index, row in agn_dataframe.iterrows():\n",
    "    best_fit= row['Best Fit']\n",
    "    DRW_term = convert_to_float_list(row['Best DRW ARMA Fit'])\n",
    "    Lbol = row['log_Lbol']\n",
    "    \n",
    "    taus.append(DRW_term[0])\n",
    "    amps.append(DRW_term[1])\n",
    "    Lbols.append(Lbol)\n",
    "\n",
    "drw_data = pd.DataFrame({'tau': taus, 'amp': amps, 'log_Lbol': Lbols})"
   ]
  },
  {
   "cell_type": "code",
   "execution_count": null,
   "id": "cc0aba51-c02b-4a0a-8ce0-b599d66adb51",
   "metadata": {},
   "outputs": [],
   "source": [
    "fig, axs = plt.subplots(2, 2, figsize=(16, 8))\n",
    "\n",
    "row = 0\n",
    "col = 0\n",
    "axs[row, col].scatter(data=drw_data, x='log_Lbol', y ='tau')\n",
    "axs[row, col].set_yscale('log')\n",
    "axs[row, col].set_xlabel('log_Lbol')\n",
    "axs[row, col].set_ylabel('tau')\n",
    "\n",
    "row = 0\n",
    "col = 1\n",
    "axs[row, col].scatter(data=drw_data, x='log_Lbol', y ='tau')\n",
    "axs[row, col].set_yscale('log')\n",
    "axs[row, col].set_ylim(3.7e-1,4e-1)\n",
    "axs[row, col].set_xlabel('log_Lbol')\n",
    "axs[row, col].set_ylabel('tau')\n",
    "\n",
    "row = 1\n",
    "col = 0\n",
    "axs[row, col].scatter(data=drw_data, x='log_Lbol', y ='amp')\n",
    "axs[row, col].set_yscale('log')\n",
    "axs[row, col].set_ylim(1, 1e100)\n",
    "axs[row, col].set_xlabel('log_Lbol')\n",
    "axs[row, col].set_ylabel('amp')\n",
    "\n",
    "row = 1\n",
    "col = 1\n",
    "axs[row, col].scatter(data=drw_data, x='log_Lbol', y ='amp')\n",
    "axs[row, col].set_yscale('log')\n",
    "axs[row, col].set_ylim(1, 1e1)\n",
    "axs[row, col].set_xlabel('log_Lbol')\n",
    "axs[row, col].set_ylabel('amp')\n",
    "\n",
    "plt.show()"
   ]
  },
  {
   "cell_type": "markdown",
   "id": "e6e718b4-36db-41b6-aeb3-9634f7b02a8b",
   "metadata": {
    "tags": []
   },
   "source": [
    "### DHO Timescales"
   ]
  },
  {
   "cell_type": "code",
   "execution_count": 4,
   "id": "d4b3bcd6-3975-4a7b-a0a2-415109e91d2f",
   "metadata": {},
   "outputs": [],
   "source": [
    "# exclude fits for which DHO_chi_sq is infinity\n",
    "agn_dataframe = agn_dataframe[agn_dataframe['DHO_chi_sq'] != np.inf]"
   ]
  },
  {
   "cell_type": "markdown",
   "id": "c29a7966-91da-4c95-b083-7e445d86717a",
   "metadata": {
    "jp-MarkdownHeadingCollapsed": true,
    "tags": []
   },
   "source": [
    "#### log_Lbol vs timescales"
   ]
  },
  {
   "cell_type": "code",
   "execution_count": null,
   "id": "eb676637-d335-430e-a99c-239af2724673",
   "metadata": {},
   "outputs": [],
   "source": [
    "fig, axs = plt.subplots(3, 2, figsize=(16, 16))\n",
    "x_ax = 'log_Lbol'\n",
    "\n",
    "# xi\n",
    "row = 0\n",
    "col = 0\n",
    "sc = axs[row, col].scatter(data=agn_dataframe, x=x_ax, y='xi')\n",
    "axs[row, col].set_yscale('log')\n",
    "axs[row, col].set_xlabel(x_ax)\n",
    "axs[row, col].set_ylabel('log(xi)')\n",
    "\n",
    "# tau_decay\n",
    "row = 0\n",
    "col = 1\n",
    "axs[row, col].scatter(data=agn_dataframe, x=x_ax, y='tau_decay')\n",
    "axs[row, col].set_yscale('log')\n",
    "axs[row, col].set_xlabel(x_ax)\n",
    "axs[row, col].set_ylabel('log(tau_decay)')\n",
    "\n",
    "# tau_rise_dqpo\n",
    "row = 1\n",
    "col = 0\n",
    "axs[row, col].scatter(data=agn_dataframe, x=x_ax, y='tau_rise_dqpo')\n",
    "axs[row, col].set_yscale('log')\n",
    "axs[row, col].set_xlabel(x_ax)\n",
    "axs[row, col].set_ylabel('log(tau_rise_dqpo)')\n",
    "\n",
    "# tau_perturb\n",
    "row = 1\n",
    "col = 1\n",
    "axs[row, col].scatter(data=agn_dataframe, x=x_ax, y='tau_perturb')\n",
    "axs[row, col].set_yscale('log')\n",
    "axs[row, col].set_xlabel(x_ax)\n",
    "axs[row, col].set_ylabel('log(tau_perturb)')\n",
    "\n",
    "# tau_decorr\n",
    "row = 2\n",
    "col = 0\n",
    "axs[row, col].scatter(data=agn_dataframe, x=x_ax, y='tau_decorr')\n",
    "axs[row, col].set_yscale('log')\n",
    "axs[row, col].set_xlabel(x_ax)\n",
    "axs[row, col].set_ylabel('log(tau_decorr)')\n",
    "\n",
    "# omega_0\n",
    "row = 2\n",
    "col = 1\n",
    "axs[row, col].scatter(data=agn_dataframe, x=x_ax, y='omega_0')\n",
    "axs[row, col].set_yscale('log')\n",
    "axs[row, col].set_xlabel(x_ax)\n",
    "axs[row, col].set_ylabel('log(omega_0)')\n",
    "\n",
    "plt.savefig('timescales_Lbol.png')"
   ]
  },
  {
   "cell_type": "markdown",
   "id": "9abfe451-613c-4997-9690-c8e9fe92b715",
   "metadata": {
    "jp-MarkdownHeadingCollapsed": true,
    "tags": []
   },
   "source": [
    "#### log_Mbh vs timescales"
   ]
  },
  {
   "cell_type": "code",
   "execution_count": null,
   "id": "a59c4481-dcaa-49af-bb1f-301aa2108a7a",
   "metadata": {},
   "outputs": [],
   "source": [
    "fig, axs = plt.subplots(3, 2, figsize=(16, 16))\n",
    "x_ax = 'log_Mbh'\n",
    "\n",
    "# xi\n",
    "row = 0\n",
    "col = 0\n",
    "axs[row, col].scatter(data=agn_dataframe, x=x_ax, y='xi')\n",
    "axs[row, col].set_yscale('log')\n",
    "axs[row, col].set_xlabel(x_ax)\n",
    "axs[row, col].set_ylabel('log(xi)')\n",
    "\n",
    "# tau_decay\n",
    "row = 0\n",
    "col = 1\n",
    "axs[row, col].scatter(data=agn_dataframe, x=x_ax, y='tau_decay')\n",
    "axs[row, col].set_yscale('log')\n",
    "axs[row, col].set_xlabel(x_ax)\n",
    "axs[row, col].set_ylabel('log(tau_decay)')\n",
    "\n",
    "# tau_rise_dqpo\n",
    "row = 1\n",
    "col = 0\n",
    "axs[row, col].scatter(data=agn_dataframe, x=x_ax, y='tau_rise_dqpo')\n",
    "axs[row, col].set_yscale('log')\n",
    "axs[row, col].set_xlabel(x_ax)\n",
    "axs[row, col].set_ylabel('log(tau_rise_dqpo)')\n",
    "\n",
    "# tau_perturb\n",
    "row = 1\n",
    "col = 1\n",
    "axs[row, col].scatter(data=agn_dataframe, x=x_ax, y='tau_perturb')\n",
    "axs[row, col].set_yscale('log')\n",
    "axs[row, col].set_xlabel(x_ax)\n",
    "axs[row, col].set_ylabel('log(tau_perturb)')\n",
    "\n",
    "# tau_decorr\n",
    "row = 2\n",
    "col = 0\n",
    "axs[row, col].scatter(data=agn_dataframe, x=x_ax, y='tau_decorr')\n",
    "axs[row, col].set_yscale('log')\n",
    "axs[row, col].set_xlabel(x_ax)\n",
    "axs[row, col].set_ylabel('log(tau_decorr)')\n",
    "\n",
    "# omega_0\n",
    "row = 2\n",
    "col = 1\n",
    "axs[row, col].scatter(data=agn_dataframe, x=x_ax, y='omega_0')\n",
    "axs[row, col].set_yscale('log')\n",
    "axs[row, col].set_xlabel(x_ax)\n",
    "axs[row, col].set_ylabel('log(omega_0)')\n",
    "\n",
    "plt.savefig('timescales_Mbh.png')"
   ]
  },
  {
   "cell_type": "markdown",
   "id": "d4cf4d90-3520-4fac-82a7-09261aa36ef9",
   "metadata": {
    "tags": []
   },
   "source": [
    "#### Colorbar"
   ]
  },
  {
   "cell_type": "code",
   "execution_count": 5,
   "id": "c3a139e0-f777-439f-b550-eaecfeacc28c",
   "metadata": {},
   "outputs": [],
   "source": [
    "def color_plot(dataframe, x_ax, c_ax, name='', log_x=False, alpha=1):\n",
    "    fig, axs = plt.subplots(3, 2, figsize=(16, 16))\n",
    "    cm = plt.cm.get_cmap('RdYlBu')\n",
    "\n",
    "    # xi\n",
    "    row = 0\n",
    "    col = 0\n",
    "    sc = axs[row, col].scatter(data=dataframe, x=x_ax, y='xi', c=c_ax, cmap=cm, alpha=alpha)\n",
    "    fig.colorbar(sc, ax=axs[row, col])\n",
    "    if log_x:\n",
    "        axs[row, col].set_xscale('log')\n",
    "    axs[row, col].set_yscale('log')\n",
    "    axs[row, col].set_xlabel(x_ax)\n",
    "    axs[row, col].set_ylabel('log(xi)')\n",
    "\n",
    "    # tau_decay\n",
    "    row = 0\n",
    "    col = 1\n",
    "    sc = axs[row, col].scatter(data=dataframe, x=x_ax, y='tau_decay', c=c_ax, cmap=cm, alpha=alpha)\n",
    "    fig.colorbar(sc, ax=axs[row, col])\n",
    "    if log_x:\n",
    "        axs[row, col].set_xscale('log')\n",
    "    axs[row, col].set_yscale('log')\n",
    "    axs[row, col].set_xlabel(x_ax)\n",
    "    axs[row, col].set_ylabel('log(tau_decay)')\n",
    "\n",
    "    # tau_rise_dqpo\n",
    "    row = 1\n",
    "    col = 0\n",
    "    sc = axs[row, col].scatter(data=dataframe, x=x_ax, y='tau_rise_dqpo', c=c_ax, cmap=cm, alpha=alpha)\n",
    "    fig.colorbar(sc, ax=axs[row, col])\n",
    "    if log_x:\n",
    "        axs[row, col].set_xscale('log')\n",
    "    axs[row, col].set_yscale('log')\n",
    "    axs[row, col].set_xlabel(x_ax)\n",
    "    axs[row, col].set_ylabel('log(tau_rise_dqpo)')\n",
    "\n",
    "    # tau_perturb\n",
    "    row = 1\n",
    "    col = 1\n",
    "    sc = axs[row, col].scatter(data=dataframe, x=x_ax, y='tau_perturb', c=c_ax, cmap=cm, alpha=alpha)\n",
    "    fig.colorbar(sc, ax=axs[row, col])\n",
    "    if log_x:\n",
    "        axs[row, col].set_xscale('log')\n",
    "    axs[row, col].set_yscale('log')\n",
    "    axs[row, col].set_xlabel(x_ax)\n",
    "    axs[row, col].set_ylabel('log(tau_perturb)')\n",
    "\n",
    "    # tau_decorr\n",
    "    row = 2\n",
    "    col = 0\n",
    "    sc = axs[row, col].scatter(data=dataframe, x=x_ax, y='tau_decorr', c=c_ax, cmap=cm, alpha=alpha)\n",
    "    fig.colorbar(sc, ax=axs[row, col])\n",
    "    if log_x:\n",
    "        axs[row, col].set_xscale('log')\n",
    "    axs[row, col].set_yscale('log')\n",
    "    axs[row, col].set_xlabel(x_ax)\n",
    "    axs[row, col].set_ylabel('log(tau_decorr)')\n",
    "\n",
    "    # omega_0\n",
    "    row = 2\n",
    "    col = 1\n",
    "    sc = axs[row, col].scatter(data=dataframe, x=x_ax, y='omega_0', c=c_ax, cmap=cm, alpha=alpha)\n",
    "    fig.colorbar(sc, ax=axs[row, col])\n",
    "    if log_x:\n",
    "        axs[row, col].set_xscale('log')\n",
    "    axs[row, col].set_yscale('log')\n",
    "    axs[row, col].set_xlabel(x_ax)\n",
    "    axs[row, col].set_ylabel('log(omega_0)')\n",
    "    \n",
    "    plt.show\n",
    "    \n",
    "    if name != '':\n",
    "        plt.savefig(f'{name}.png')"
   ]
  },
  {
   "cell_type": "markdown",
   "id": "05a2db43-6b54-4bf9-b1d8-847f89d32966",
   "metadata": {
    "jp-MarkdownHeadingCollapsed": true,
    "tags": []
   },
   "source": [
    "#### Timescales vs log_Lbol and DHO Terms"
   ]
  },
  {
   "cell_type": "code",
   "execution_count": null,
   "id": "7455d591-20b6-413f-a2cb-91da7b9ecfa4",
   "metadata": {},
   "outputs": [],
   "source": [
    "a1s = []\n",
    "a2s = [] \n",
    "b0s = []\n",
    "b1s = []\n",
    "\n",
    "for index, row in agn_dataframe.iterrows():\n",
    "    dho_terms = convert_to_float_list(row['DHO MCMC Fit'])\n",
    "    bounds = [15, 15, 10, 10]\n",
    "    \n",
    "    # if dho_term > bound (same bound as in pp) then use the bound\n",
    "    a1s.append(dho_terms[0] if dho_terms[0] < bounds[0] else bounds[0])\n",
    "    a2s.append(dho_terms[1] if dho_terms[1] < bounds[1] else bounds[1])\n",
    "    b0s.append(dho_terms[2] if dho_terms[2] < bounds[2] else bounds[2])\n",
    "    b1s.append(dho_terms[3] if dho_terms[3] < bounds[3] else bounds[3])\n",
    "    \n",
    "dho_fit_data = pd.DataFrame({'BAT ID': agn_dataframe['BAT ID'], 'log_Lbol': agn_dataframe['log_Lbol'], 'log_Mbh': agn_dataframe['log_Mbh'],\n",
    "                             'a1': a1s, 'a2': a2s, 'b0': b0s, 'b1': b1s,\n",
    "                             'SNR': agn_dataframe['SNR'], 'z[OIII]_x': agn_dataframe['z[OIII]_x'], 'log_Eratio': agn_dataframe['log_Eratio'], \n",
    "                             'xi': agn_dataframe['xi'], \n",
    "                             'tau_decay': agn_dataframe['tau_decay'], 'tau_rise_dqpo': agn_dataframe['tau_rise_dqpo'], 'tau_perturb': agn_dataframe['tau_perturb'], 'tau_decorr': agn_dataframe['tau_decorr'], \n",
    "                             'omega_0': agn_dataframe['omega_0']})\n",
    "dho_fit_data"
   ]
  },
  {
   "cell_type": "code",
   "execution_count": null,
   "id": "58526ef0-526b-46ff-b55e-e1ff5e0e2bb6",
   "metadata": {},
   "outputs": [],
   "source": [
    "color_plot(dho_fit_data, 'log_Lbol', 'a1', 'timescales_Lbol_a1')\n",
    "color_plot(dho_fit_data, 'log_Lbol', 'a2', 'timescales_Lbol_a2')\n",
    "color_plot(dho_fit_data, 'log_Lbol', 'b0', 'timescales_Lbol_b0')\n",
    "color_plot(dho_fit_data, 'log_Lbol', 'b1', 'timescales_Lbol_b1')"
   ]
  },
  {
   "cell_type": "code",
   "execution_count": null,
   "id": "e23d6fd1-b874-4bac-a5cc-3622f0b6fd42",
   "metadata": {},
   "outputs": [],
   "source": [
    "import matplotlib\n",
    "def log_color_plot(dataframe, x_ax, c_ax, name=''):\n",
    "    fig, axs = plt.subplots(3, 2, figsize=(16, 16))\n",
    "    cm = plt.cm.get_cmap('RdYlBu')\n",
    "\n",
    "    # xi\n",
    "    row = 0\n",
    "    col = 0\n",
    "    sc = axs[row, col].scatter(data=dataframe, x=x_ax, y='xi', c=c_ax, cmap=cm, norm=matplotlib.colors.LogNorm())\n",
    "    fig.colorbar(sc, ax=axs[row, col])\n",
    "    axs[row, col].set_yscale('log')\n",
    "    axs[row, col].set_xlabel(x_ax)\n",
    "    axs[row, col].set_ylabel('log(xi)')\n",
    "\n",
    "    # tau_decay\n",
    "    row = 0\n",
    "    col = 1\n",
    "    sc = axs[row, col].scatter(data=dataframe, x=x_ax, y='tau_decay', c=c_ax, cmap=cm, norm=matplotlib.colors.LogNorm())\n",
    "    fig.colorbar(sc, ax=axs[row, col])\n",
    "    axs[row, col].set_yscale('log')\n",
    "    axs[row, col].set_xlabel(x_ax)\n",
    "    axs[row, col].set_ylabel('log(tau_decay)')\n",
    "\n",
    "    # tau_rise_dqpo\n",
    "    row = 1\n",
    "    col = 0\n",
    "    sc = axs[row, col].scatter(data=dataframe, x=x_ax, y='tau_rise_dqpo', c=c_ax, cmap=cm, norm=matplotlib.colors.LogNorm())\n",
    "    fig.colorbar(sc, ax=axs[row, col])\n",
    "    axs[row, col].set_yscale('log')\n",
    "    axs[row, col].set_xlabel(x_ax)\n",
    "    axs[row, col].set_ylabel('log(tau_rise_dqpo)')\n",
    "\n",
    "    # tau_perturb\n",
    "    row = 1\n",
    "    col = 1\n",
    "    sc = axs[row, col].scatter(data=dataframe, x=x_ax, y='tau_perturb', c=c_ax, cmap=cm, norm=matplotlib.colors.LogNorm())\n",
    "    fig.colorbar(sc, ax=axs[row, col])\n",
    "    axs[row, col].set_yscale('log')\n",
    "    axs[row, col].set_xlabel(x_ax)\n",
    "    axs[row, col].set_ylabel('log(tau_perturb)')\n",
    "\n",
    "    # tau_decorr\n",
    "    row = 2\n",
    "    col = 0\n",
    "    sc = axs[row, col].scatter(data=dataframe, x=x_ax, y='tau_decorr', c=c_ax, cmap=cm, norm=matplotlib.colors.LogNorm())\n",
    "    fig.colorbar(sc, ax=axs[row, col])\n",
    "    axs[row, col].set_yscale('log')\n",
    "    axs[row, col].set_xlabel(x_ax)\n",
    "    axs[row, col].set_ylabel('log(tau_decorr)')\n",
    "\n",
    "    # omega_0\n",
    "    row = 2\n",
    "    col = 1\n",
    "    sc = axs[row, col].scatter(data=dataframe, x=x_ax, y='omega_0', c=c_ax, cmap=cm, norm=matplotlib.colors.LogNorm())\n",
    "    fig.colorbar(sc, ax=axs[row, col])\n",
    "    axs[row, col].set_yscale('log')\n",
    "    axs[row, col].set_xlabel(x_ax)\n",
    "    axs[row, col].set_ylabel('log(omega_0)')\n",
    "    \n",
    "    plt.show\n",
    "    \n",
    "    if name != '':\n",
    "        plt.savefig(f'{name}.png')"
   ]
  },
  {
   "cell_type": "code",
   "execution_count": null,
   "id": "e29acd4f-9d94-47c5-9753-961e02a17dd2",
   "metadata": {},
   "outputs": [],
   "source": [
    "log_color_plot(dho_fit_data, 'log_Lbol', 'a1', 'timescales_Lbol_loga1')\n",
    "log_color_plot(dho_fit_data, 'log_Lbol', 'a2', 'timescales_Lbol_loga2')\n",
    "log_color_plot(dho_fit_data, 'log_Lbol', 'b0', 'timescales_Lbol_logb0')\n",
    "log_color_plot(dho_fit_data, 'log_Lbol', 'b1', 'timescales_Lbol_logb1')"
   ]
  },
  {
   "cell_type": "code",
   "execution_count": null,
   "id": "ca4743e7-eac2-42fd-a8fa-88bd3c7e0998",
   "metadata": {},
   "outputs": [],
   "source": [
    "log_color_plot(dho_fit_data, 'log_Mbh', 'a1', 'timescales_Mbh_loga1')\n",
    "log_color_plot(dho_fit_data, 'log_Mbh', 'a2', 'timescales_Mbh_loga2')\n",
    "log_color_plot(dho_fit_data, 'log_Mbh', 'b0', 'timescales_Mbh_logb0')\n",
    "log_color_plot(dho_fit_data, 'log_Mbh', 'b1', 'timescales_Mbh_logb1')"
   ]
  },
  {
   "cell_type": "code",
   "execution_count": null,
   "id": "3065d729-eebb-49c3-a902-4a69ab89c02f",
   "metadata": {},
   "outputs": [],
   "source": [
    "color_plot(dho_fit_data, 'xi', 'log_Lbol', 'timescales_xi_Lbol_alpha50', log_x=True, alpha=0.5)\n",
    "color_plot(dho_fit_data, 'tau_decay', 'log_Lbol', 'timescales_tau_decay_Lbol_alpha50', log_x=True, alpha=0.5)\n",
    "color_plot(dho_fit_data, 'tau_rise_dqpo', 'log_Lbol', 'timescales_tau_rise_dqpo_Lbol_alpha50', log_x=True, alpha=0.5)\n",
    "color_plot(dho_fit_data, 'tau_perturb', 'log_Lbol', 'timescales_tau_perturb_Lbol_alpha50', log_x=True, alpha=0.5)\n",
    "color_plot(dho_fit_data, 'tau_decorr', 'log_Lbol', 'timescales_tau_decorr_Lbol_alpha50', log_x=True, alpha=0.5)\n",
    "color_plot(dho_fit_data, 'omega_0', 'log_Lbol', 'timescales_omega_0_Lbol_alpha50', log_x=True, alpha=0.5)"
   ]
  },
  {
   "cell_type": "code",
   "execution_count": null,
   "id": "ba6ccb3c-3757-4b9a-943e-f3110c2bf7af",
   "metadata": {},
   "outputs": [],
   "source": [
    "color_plot(dho_fit_data, 'xi', 'log_Mbh', 'timescales_xi_Mbh_alpha50', log_x=True, alpha=0.5)\n",
    "color_plot(dho_fit_data, 'tau_decay', 'log_Mbh', 'timescales_tau_decay_Mbh_alpha50', log_x=True, alpha=0.5)\n",
    "color_plot(dho_fit_data, 'tau_rise_dqpo', 'log_Mbh', 'timescales_tau_rise_dqpo_Mbh_alpha50', log_x=True, alpha=0.5)\n",
    "color_plot(dho_fit_data, 'tau_perturb', 'log_Mbh', 'timescales_tau_perturb_Mbh_alpha50', log_x=True, alpha=0.5)\n",
    "color_plot(dho_fit_data, 'tau_decorr', 'log_Mbh', 'timescales_tau_decorr_Mbh_alpha50', log_x=True, alpha=0.5)\n",
    "color_plot(dho_fit_data, 'omega_0', 'log_Mbh', 'timescales_omega_0_Mbh_alpha50', log_x=True, alpha=0.5)"
   ]
  },
  {
   "cell_type": "markdown",
   "id": "cb4ba5fd-a6c2-449d-b48b-4c8d76a71975",
   "metadata": {
    "jp-MarkdownHeadingCollapsed": true,
    "tags": []
   },
   "source": [
    "#### SNR, z[OIII], & Eratio"
   ]
  },
  {
   "cell_type": "code",
   "execution_count": null,
   "id": "ddce3b29-6315-4180-b2a6-d5482cc953a0",
   "metadata": {},
   "outputs": [],
   "source": [
    "# lob_Lbol\n",
    "color_plot(agn_dataframe, 'SNR', 'log_Lbol', 'timescales_SNR_Lbol', log_x=True)\n",
    "color_plot(agn_dataframe, 'z[OIII]_x', 'log_Lbol', 'timescales_z[OIII]_x_Lbol', log_x=True)\n",
    "color_plot(agn_dataframe, 'log_Eratio', 'log_Lbol', 'timescales_log_Eratio_Lbol', log_x=True)\n",
    "\n",
    "# log_Mbh\n",
    "color_plot(agn_dataframe, 'SNR', 'log_Mbh', 'timescales_SNR_Mbh', log_x=True)\n",
    "color_plot(agn_dataframe, 'z[OIII]_x', 'log_Mbh', 'timescales_z[OIII]_x_Mbh', log_x=True)\n",
    "color_plot(agn_dataframe, 'log_Eratio', 'log_Mbh', 'timescales_log_Eratio_Mbh', log_x=True)"
   ]
  },
  {
   "cell_type": "code",
   "execution_count": null,
   "id": "8234c1eb-3ec2-46e7-a83f-9269c037f78b",
   "metadata": {},
   "outputs": [],
   "source": [
    "color_plot(dho_fit_data, 'SNR', 'a1', 'timescales_SNR_loga1_alpha50', log_x=True, alpha=0.5)\n",
    "color_plot(dho_fit_data, 'SNR', 'a2', 'timescales_SNR_loga2_alpha50', log_x=True, alpha=0.5)\n",
    "color_plot(dho_fit_data, 'SNR', 'b0', 'timescales_SNR_logb0_alpha50', log_x=True, alpha=0.5)\n",
    "color_plot(dho_fit_data, 'SNR', 'b1', 'timescales_SNR_logb1_alpha50', log_x=True, alpha=0.5)"
   ]
  },
  {
   "cell_type": "code",
   "execution_count": null,
   "id": "b3d9bea8-1ed5-4961-ab65-3a8447679e10",
   "metadata": {},
   "outputs": [],
   "source": [
    "color_plot(dho_fit_data, 'z[OIII]_x', 'a1', 'timescales_z[OIII]_x_loga1_alpha50', log_x=True, alpha=0.5)\n",
    "color_plot(dho_fit_data, 'z[OIII]_x', 'a2', 'timescales_z[OIII]_x_loga2_alpha50', log_x=True, alpha=0.5)\n",
    "color_plot(dho_fit_data, 'z[OIII]_x', 'b0', 'timescales_z[OIII]_x_logb0_alpha50', log_x=True, alpha=0.5)\n",
    "color_plot(dho_fit_data, 'z[OIII]_x', 'b1', 'timescales_z[OIII]_x_logb1_alpha50', log_x=True, alpha=0.5)"
   ]
  },
  {
   "cell_type": "code",
   "execution_count": null,
   "id": "5882ce5d-7fab-4125-99f6-72c7f84dddd4",
   "metadata": {},
   "outputs": [],
   "source": [
    "color_plot(dho_fit_data, 'log_Eratio', 'a1', 'timescales_log_Eratio_loga1_alpha50', log_x=True, alpha=0.5)\n",
    "color_plot(dho_fit_data, 'log_Eratio', 'a2', 'timescales_log_Eratio_loga2_alpha50', log_x=True, alpha=0.5)\n",
    "color_plot(dho_fit_data, 'log_Eratio', 'b0', 'timescales_log_Eratio_logb0_alpha50', log_x=True, alpha=0.5)\n",
    "color_plot(dho_fit_data, 'log_Eratio', 'b1', 'timescales_log_Eratio_logb1_alpha50', log_x=True, alpha=0.5)"
   ]
  },
  {
   "cell_type": "markdown",
   "id": "7d3fbce8-a4ff-4f50-8eaf-b6ae3d891d2c",
   "metadata": {
    "tags": []
   },
   "source": [
    "#### Timescales vs redshift"
   ]
  },
  {
   "cell_type": "code",
   "execution_count": null,
   "id": "57825cc0-15b7-4523-959e-f4f25c2b3f6c",
   "metadata": {},
   "outputs": [],
   "source": [
    "fig, axs = plt.subplots(3, 2, figsize=(16, 16))\n",
    "x_ax = 'z[OIII]_x'\n",
    "\n",
    "# xi\n",
    "row = 0\n",
    "col = 0\n",
    "sc = axs[row, col].scatter(data=agn_dataframe, x=x_ax, y='xi')\n",
    "axs[row, col].set_yscale('log')\n",
    "axs[row, col].set_xscale('log')\n",
    "axs[row, col].set_xlabel(x_ax)\n",
    "axs[row, col].set_ylabel('log(xi)')\n",
    "\n",
    "# tau_decay\n",
    "row = 0\n",
    "col = 1\n",
    "axs[row, col].scatter(data=agn_dataframe, x=x_ax, y='tau_decay')\n",
    "axs[row, col].set_yscale('log')\n",
    "axs[row, col].set_xscale('log')\n",
    "axs[row, col].set_xlabel(x_ax)\n",
    "axs[row, col].set_ylabel('log(tau_decay)')\n",
    "\n",
    "# tau_rise_dqpo\n",
    "row = 1\n",
    "col = 0\n",
    "axs[row, col].scatter(data=agn_dataframe, x=x_ax, y='tau_rise_dqpo')\n",
    "axs[row, col].set_yscale('log')\n",
    "axs[row, col].set_xscale('log')\n",
    "axs[row, col].set_xlabel(x_ax)\n",
    "axs[row, col].set_ylabel('log(tau_rise_dqpo)')\n",
    "\n",
    "# tau_perturb\n",
    "row = 1\n",
    "col = 1\n",
    "axs[row, col].scatter(data=agn_dataframe, x=x_ax, y='tau_perturb')\n",
    "axs[row, col].set_yscale('log')\n",
    "axs[row, col].set_xscale('log')\n",
    "axs[row, col].set_xlabel(x_ax)\n",
    "axs[row, col].set_ylabel('log(tau_perturb)')\n",
    "\n",
    "# tau_decorr\n",
    "row = 2\n",
    "col = 0\n",
    "axs[row, col].scatter(data=agn_dataframe, x=x_ax, y='tau_decorr')\n",
    "axs[row, col].set_yscale('log')\n",
    "axs[row, col].set_xscale('log')\n",
    "axs[row, col].set_xlabel(x_ax)\n",
    "axs[row, col].set_ylabel('log(tau_decorr)')\n",
    "\n",
    "# omega_0\n",
    "row = 2\n",
    "col = 1\n",
    "axs[row, col].scatter(data=agn_dataframe, x=x_ax, y='omega_0')\n",
    "axs[row, col].set_yscale('log')\n",
    "axs[row, col].set_xscale('log')\n",
    "axs[row, col].set_xlabel(x_ax)\n",
    "axs[row, col].set_ylabel('log(omega_0)')\n",
    "\n",
    "plt.savefig('timescales_z[OIII].png')"
   ]
  },
  {
   "cell_type": "code",
   "execution_count": null,
   "id": "69fa8012-8d37-4374-9614-9b1253daceda",
   "metadata": {},
   "outputs": [],
   "source": [
    "# timescales vs timescales\n",
    "color_plot(agn_dataframe, 'xi', 'z[OIII]_x', 'timescales_xi_z[OIII]_x', log_x=True, alpha=0.5)\n",
    "color_plot(agn_dataframe, 'tau_decay', 'z[OIII]_x', 'timescales_tau_decay_z[OIII]_x', log_x=True, alpha=0.5)\n",
    "color_plot(agn_dataframe, 'tau_rise_dqpo', 'z[OIII]_x', 'timescales_tau_rise_dqpo_z[OIII]_x', log_x=True, alpha=0.5)\n",
    "color_plot(agn_dataframe, 'tau_perturb', 'z[OIII]_x', 'timescales_tau_perturb_z[OIII]_x', log_x=True, alpha=0.5)\n",
    "color_plot(agn_dataframe, 'tau_decorr', 'z[OIII]_x', 'timescales_tau_decorr_z[OIII]_x', log_x=True, alpha=0.5)\n",
    "color_plot(agn_dataframe, 'omega_0', 'z[OIII]_x', 'timescales_omega_0_z[OIII]_x', log_x=True, alpha=0.5)"
   ]
  },
  {
   "cell_type": "code",
   "execution_count": null,
   "id": "fa9bcf3c-71f7-4743-82c6-8766d12581e3",
   "metadata": {},
   "outputs": [],
   "source": [
    "# dho terms\n",
    "color_plot(dho_fit_data, 'z[OIII]_x', 'a1', 'timescales_z[OIII]_loga1', log_x=True, alpha=0.5)\n",
    "color_plot(dho_fit_data, 'z[OIII]_x', 'a2', 'timescales_z[OIII]_loga2', log_x=True, alpha=0.5)\n",
    "color_plot(dho_fit_data, 'z[OIII]_x', 'b0', 'timescales_z[OIII]_logb0', log_x=True, alpha=0.5)\n",
    "color_plot(dho_fit_data, 'z[OIII]_x', 'b1', 'timescales_z[OIII]_logb1', log_x=True, alpha=0.5)"
   ]
  }
 ],
 "metadata": {
  "kernelspec": {
   "display_name": "Python 3 (ipykernel)",
   "language": "python",
   "name": "python3"
  },
  "language_info": {
   "codemirror_mode": {
    "name": "ipython",
    "version": 3
   },
   "file_extension": ".py",
   "mimetype": "text/x-python",
   "name": "python",
   "nbconvert_exporter": "python",
   "pygments_lexer": "ipython3",
   "version": "3.9.7"
  }
 },
 "nbformat": 4,
 "nbformat_minor": 5
}
