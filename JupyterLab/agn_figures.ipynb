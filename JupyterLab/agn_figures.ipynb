{
 "cells": [
  {
   "cell_type": "code",
   "execution_count": 1,
   "id": "dc2eec6e-2171-4314-8248-b3f4933cc2c2",
   "metadata": {},
   "outputs": [],
   "source": [
    "import numpy as np\n",
    "import pandas as pd\n",
    "import seaborn as sns\n",
    "import corner\n",
    "import matplotlib.pyplot as plt"
   ]
  },
  {
   "cell_type": "code",
   "execution_count": 9,
   "id": "10bc2e25-e2bf-4200-8290-bb15f733415e",
   "metadata": {},
   "outputs": [],
   "source": [
    "agn_dataframe = pd.read_csv('agn_dataframe.csv')"
   ]
  },
  {
   "cell_type": "code",
   "execution_count": 3,
   "id": "1d179612-0b97-4b5b-8359-5b83a3bb61fb",
   "metadata": {},
   "outputs": [],
   "source": [
    "flag = [float('inf')]\n",
    "\n",
    "# Converts a string into a float list.\n",
    "# String must be in the following format:\n",
    "# '[1.01, 2.02, 3.03, 4.04]'\n",
    "# Returns an array of len=1 with the one index='inf' if the String\n",
    "# cannont be converted into a list of floats.\n",
    "# Takes an optional string char for the characters to split by\n",
    "def convert_to_float_list(str_list, **kwargs):\n",
    "    char = kwargs.get('char', None)\n",
    "    debug = kwargs.get('debug', False)\n",
    "    \n",
    "    if debug:\n",
    "        print(str_list + ' foo')\n",
    "        \n",
    "    str_list = str_list.replace('[', '')\n",
    "    str_list = str_list.replace(']', '')\n",
    "    \n",
    "    if debug:\n",
    "        print(str_list + ' bar')\n",
    "    \n",
    "    try:\n",
    "        return [float(i) for i in str_list.split(char)]\n",
    "    except ValueError:\n",
    "        return flag"
   ]
  },
  {
   "cell_type": "markdown",
   "id": "2f21c225-4451-4c1b-a5d5-c8386e220f08",
   "metadata": {
    "jp-MarkdownHeadingCollapsed": true,
    "tags": []
   },
   "source": [
    "### Light curve of 0.22032 -7.1532 ZTFG"
   ]
  },
  {
   "cell_type": "code",
   "execution_count": null,
   "id": "419d51b3-8cab-4c03-a0ed-2421e6065953",
   "metadata": {},
   "outputs": [],
   "source": [
    "agn_example = pd.read_csv('../../AGN_LightCurves/0.2032_-7.1532_ztfg.parquet')\n",
    "plt.figure(figsize=[12,6])\n",
    "plt.errorbar(agn_example['mjd'], agn_example['mag'], yerr=agn_example['magerr'], \n",
    "             linestyle='solid', marker='.', alpha=0.5, ecolor='0.3', label='0.2032 -7.1532 ZTFG')\n",
    "plt.gca().invert_yaxis()\n",
    "plt.xlabel('MJD')\n",
    "plt.ylabel('mag')\n",
    "plt.legend()\n",
    "plt.show()"
   ]
  },
  {
   "cell_type": "markdown",
   "id": "8090c370-7e55-45bf-90f5-a789fe7a295d",
   "metadata": {
    "jp-MarkdownHeadingCollapsed": true,
    "tags": []
   },
   "source": [
    "### Light curve of 1.0082 70.3217 ZTFG"
   ]
  },
  {
   "cell_type": "code",
   "execution_count": null,
   "id": "75df804e-4627-4a61-b236-2027ad2feb64",
   "metadata": {},
   "outputs": [],
   "source": [
    "agn_example = pd.read_csv('../../AGN_LightCurves/1.0082_70.3217_ztfg.parquet')\n",
    "plt.figure(figsize=[12,6])\n",
    "plt.errorbar(agn_example['mjd'], agn_example['mag'], yerr=agn_example['magerr'], \n",
    "             linestyle='solid', marker='.', alpha=0.5, ecolor='0.3', label='1.0082 70.3217 ZTFG')\n",
    "plt.gca().invert_yaxis()\n",
    "plt.xlabel('MJD')\n",
    "plt.ylabel('mag')\n",
    "plt.legend()\n",
    "plt.show()"
   ]
  },
  {
   "cell_type": "markdown",
   "id": "8e4173fe-8448-4030-b8b2-0eb234a97870",
   "metadata": {
    "jp-MarkdownHeadingCollapsed": true,
    "tags": []
   },
   "source": [
    "### SNR, LC Length, and log Lbol"
   ]
  },
  {
   "cell_type": "code",
   "execution_count": null,
   "id": "37106cf9-efd7-4be9-abd3-a6c6aee54717",
   "metadata": {},
   "outputs": [],
   "source": [
    "fig, axs = plt.subplots(3, 2, figsize=(16, 12))\n",
    "\n",
    "row = 0\n",
    "# SNR vs log LBol\n",
    "sns.scatterplot(data=agn_dataframe, x='SNR', y ='log_Lbol', hue='Best Fit', ax=axs[row,0])\n",
    "axs[row, 0].set_xlim(0, 1500) \n",
    "# LC Length vs log LBol\n",
    "sns.scatterplot(data=agn_dataframe, x='LC Length', y ='log_Lbol', hue='Best Fit', ax=axs[row,1])\n",
    "\n",
    "row += 1\n",
    "# histogram of LC Length\n",
    "sns.histplot(data=agn_dataframe, x='LC Length', ax=axs[row,0])\n",
    "# histogram of LC Length for best fit\n",
    "sns.histplot(data=agn_dataframe, x='LC Length', hue='Best Fit', ax=axs[row,1])\n",
    "\n",
    "row += 1\n",
    "# histogram of log LBol for best fit\n",
    "sns.histplot(data=agn_dataframe, x='log_Lbol', hue='Best Fit', ax=axs[row,0])\n",
    "# histogram of SNR for best fit\n",
    "sns.histplot(data=agn_dataframe, x='SNR', hue='Best Fit', ax=axs[row,1])\n",
    "axs[row, 1].set_xlim(0, 1500) \n",
    "\n",
    "plt.show()"
   ]
  },
  {
   "cell_type": "markdown",
   "id": "2f78a502-70c8-44d7-9bbc-ecdf46bc17bc",
   "metadata": {
    "jp-MarkdownHeadingCollapsed": true,
    "tags": []
   },
   "source": [
    "### DRW tau and amp"
   ]
  },
  {
   "cell_type": "code",
   "execution_count": null,
   "id": "b78c0205-7ab9-4f25-b11f-fecb0ec8715e",
   "metadata": {},
   "outputs": [],
   "source": [
    "best_fits = []\n",
    "taus = []\n",
    "amps = []\n",
    "Lbols = []\n",
    "\n",
    "for index, row in agn_dataframe.iterrows():\n",
    "    best_fit= row['Best Fit']\n",
    "    DRW_term = convert_to_float_list(row['Best DRW ARMA Fit'])\n",
    "    Lbol = row['log_Lbol']\n",
    "    \n",
    "    taus.append(DRW_term[0])\n",
    "    amps.append(DRW_term[1])\n",
    "    Lbols.append(Lbol)\n",
    "\n",
    "drw_data = pd.DataFrame({'tau': taus, 'amp': amps, 'log_Lbol': Lbols})"
   ]
  },
  {
   "cell_type": "code",
   "execution_count": null,
   "id": "cc0aba51-c02b-4a0a-8ce0-b599d66adb51",
   "metadata": {},
   "outputs": [],
   "source": [
    "fig, axs = plt.subplots(2, 2, figsize=(16, 8))\n",
    "\n",
    "row = 0\n",
    "col = 0\n",
    "axs[row, col].scatter(data=drw_data, x='log_Lbol', y ='tau')\n",
    "axs[row, col].set_yscale('log')\n",
    "axs[row, col].set_xlabel('log_Lbol')\n",
    "axs[row, col].set_ylabel('tau')\n",
    "\n",
    "row = 0\n",
    "col = 1\n",
    "axs[row, col].scatter(data=drw_data, x='log_Lbol', y ='tau')\n",
    "axs[row, col].set_yscale('log')\n",
    "axs[row, col].set_ylim(3.7e-1,4e-1)\n",
    "axs[row, col].set_xlabel('log_Lbol')\n",
    "axs[row, col].set_ylabel('tau')\n",
    "\n",
    "row = 1\n",
    "col = 0\n",
    "axs[row, col].scatter(data=drw_data, x='log_Lbol', y ='amp')\n",
    "axs[row, col].set_yscale('log')\n",
    "axs[row, col].set_ylim(1, 1e100)\n",
    "axs[row, col].set_xlabel('log_Lbol')\n",
    "axs[row, col].set_ylabel('amp')\n",
    "\n",
    "row = 1\n",
    "col = 1\n",
    "axs[row, col].scatter(data=drw_data, x='log_Lbol', y ='amp')\n",
    "axs[row, col].set_yscale('log')\n",
    "axs[row, col].set_ylim(1, 1e1)\n",
    "axs[row, col].set_xlabel('log_Lbol')\n",
    "axs[row, col].set_ylabel('amp')\n",
    "\n",
    "plt.show()"
   ]
  },
  {
   "cell_type": "markdown",
   "id": "e6e718b4-36db-41b6-aeb3-9634f7b02a8b",
   "metadata": {
    "tags": []
   },
   "source": [
    "### DHO Timescales"
   ]
  },
  {
   "cell_type": "code",
   "execution_count": 10,
   "id": "d4b3bcd6-3975-4a7b-a0a2-415109e91d2f",
   "metadata": {},
   "outputs": [],
   "source": [
    "# exclude fits for which DHO_chi_sq is infinity\n",
    "agn_dataframe = agn_dataframe[agn_dataframe['DHO_chi_sq'] != np.inf]"
   ]
  },
  {
   "cell_type": "markdown",
   "id": "c29a7966-91da-4c95-b083-7e445d86717a",
   "metadata": {
    "jp-MarkdownHeadingCollapsed": true,
    "tags": []
   },
   "source": [
    "#### log_Lbol vs timescales"
   ]
  },
  {
   "cell_type": "code",
   "execution_count": null,
   "id": "eb676637-d335-430e-a99c-239af2724673",
   "metadata": {},
   "outputs": [],
   "source": [
    "fig, axs = plt.subplots(3, 2, figsize=(16, 16))\n",
    "x_ax = 'log_Lbol'\n",
    "\n",
    "# xi\n",
    "row = 0\n",
    "col = 0\n",
    "sc = axs[row, col].scatter(data=agn_dataframe, x=x_ax, y='xi')\n",
    "axs[row, col].set_yscale('log')\n",
    "axs[row, col].set_xlabel(x_ax)\n",
    "axs[row, col].set_ylabel('log(xi)')\n",
    "\n",
    "# tau_decay\n",
    "row = 0\n",
    "col = 1\n",
    "axs[row, col].scatter(data=agn_dataframe, x=x_ax, y='tau_decay')\n",
    "axs[row, col].set_yscale('log')\n",
    "axs[row, col].set_xlabel(x_ax)\n",
    "axs[row, col].set_ylabel('log(tau_decay)')\n",
    "\n",
    "# tau_rise_dqpo\n",
    "row = 1\n",
    "col = 0\n",
    "axs[row, col].scatter(data=agn_dataframe, x=x_ax, y='tau_rise_dqpo')\n",
    "axs[row, col].set_yscale('log')\n",
    "axs[row, col].set_xlabel(x_ax)\n",
    "axs[row, col].set_ylabel('log(tau_rise_dqpo)')\n",
    "\n",
    "# tau_perturb\n",
    "row = 1\n",
    "col = 1\n",
    "axs[row, col].scatter(data=agn_dataframe, x=x_ax, y='tau_perturb')\n",
    "axs[row, col].set_yscale('log')\n",
    "axs[row, col].set_xlabel(x_ax)\n",
    "axs[row, col].set_ylabel('log(tau_perturb)')\n",
    "\n",
    "# tau_decorr\n",
    "row = 2\n",
    "col = 0\n",
    "axs[row, col].scatter(data=agn_dataframe, x=x_ax, y='tau_decorr')\n",
    "axs[row, col].set_yscale('log')\n",
    "axs[row, col].set_xlabel(x_ax)\n",
    "axs[row, col].set_ylabel('log(tau_decorr)')\n",
    "\n",
    "# omega_0\n",
    "row = 2\n",
    "col = 1\n",
    "axs[row, col].scatter(data=agn_dataframe, x=x_ax, y='omega_0')\n",
    "axs[row, col].set_yscale('log')\n",
    "axs[row, col].set_xlabel(x_ax)\n",
    "axs[row, col].set_ylabel('log(omega_0)')\n",
    "\n",
    "plt.savefig('timescales_Lbol.png')"
   ]
  },
  {
   "cell_type": "markdown",
   "id": "9abfe451-613c-4997-9690-c8e9fe92b715",
   "metadata": {
    "jp-MarkdownHeadingCollapsed": true,
    "tags": []
   },
   "source": [
    "#### log_Mbh vs timescales"
   ]
  },
  {
   "cell_type": "code",
   "execution_count": null,
   "id": "a59c4481-dcaa-49af-bb1f-301aa2108a7a",
   "metadata": {},
   "outputs": [],
   "source": [
    "fig, axs = plt.subplots(3, 2, figsize=(16, 16))\n",
    "x_ax = 'log_Mbh'\n",
    "\n",
    "# xi\n",
    "row = 0\n",
    "col = 0\n",
    "axs[row, col].scatter(data=agn_dataframe, x=x_ax, y='xi')\n",
    "axs[row, col].set_yscale('log')\n",
    "axs[row, col].set_xlabel(x_ax)\n",
    "axs[row, col].set_ylabel('log(xi)')\n",
    "\n",
    "# tau_decay\n",
    "row = 0\n",
    "col = 1\n",
    "axs[row, col].scatter(data=agn_dataframe, x=x_ax, y='tau_decay')\n",
    "axs[row, col].set_yscale('log')\n",
    "axs[row, col].set_xlabel(x_ax)\n",
    "axs[row, col].set_ylabel('log(tau_decay)')\n",
    "\n",
    "# tau_rise_dqpo\n",
    "row = 1\n",
    "col = 0\n",
    "axs[row, col].scatter(data=agn_dataframe, x=x_ax, y='tau_rise_dqpo')\n",
    "axs[row, col].set_yscale('log')\n",
    "axs[row, col].set_xlabel(x_ax)\n",
    "axs[row, col].set_ylabel('log(tau_rise_dqpo)')\n",
    "\n",
    "# tau_perturb\n",
    "row = 1\n",
    "col = 1\n",
    "axs[row, col].scatter(data=agn_dataframe, x=x_ax, y='tau_perturb')\n",
    "axs[row, col].set_yscale('log')\n",
    "axs[row, col].set_xlabel(x_ax)\n",
    "axs[row, col].set_ylabel('log(tau_perturb)')\n",
    "\n",
    "# tau_decorr\n",
    "row = 2\n",
    "col = 0\n",
    "axs[row, col].scatter(data=agn_dataframe, x=x_ax, y='tau_decorr')\n",
    "axs[row, col].set_yscale('log')\n",
    "axs[row, col].set_xlabel(x_ax)\n",
    "axs[row, col].set_ylabel('log(tau_decorr)')\n",
    "\n",
    "# omega_0\n",
    "row = 2\n",
    "col = 1\n",
    "axs[row, col].scatter(data=agn_dataframe, x=x_ax, y='omega_0')\n",
    "axs[row, col].set_yscale('log')\n",
    "axs[row, col].set_xlabel(x_ax)\n",
    "axs[row, col].set_ylabel('log(omega_0)')\n",
    "\n",
    "plt.savefig('timescales_Mbh.png')"
   ]
  },
  {
   "cell_type": "markdown",
   "id": "d4cf4d90-3520-4fac-82a7-09261aa36ef9",
   "metadata": {
    "tags": []
   },
   "source": [
    "#### Colorbar"
   ]
  },
  {
   "cell_type": "code",
   "execution_count": 6,
   "id": "c3a139e0-f777-439f-b550-eaecfeacc28c",
   "metadata": {},
   "outputs": [],
   "source": [
    "def color_plot(dataframe, x_ax, c_ax, name='', log_x=False, alpha=1):\n",
    "    fig, axs = plt.subplots(3, 2, figsize=(16, 16))\n",
    "    cm = plt.cm.get_cmap('RdYlBu')\n",
    "\n",
    "    # xi\n",
    "    row = 0\n",
    "    col = 0\n",
    "    sc = axs[row, col].scatter(data=dataframe, x=x_ax, y='xi', c=c_ax, cmap=cm, alpha=alpha)\n",
    "    fig.colorbar(sc, ax=axs[row, col])\n",
    "    if log_x:\n",
    "        axs[row, col].set_xscale('log')\n",
    "    axs[row, col].set_yscale('log')\n",
    "    axs[row, col].set_xlabel(x_ax)\n",
    "    axs[row, col].set_ylabel('log(xi)')\n",
    "    \n",
    "    #axs[row, col].set_xlim(right=10e1)\n",
    "    #axs[row, col].set_ylim(top=10e3)\n",
    "\n",
    "    # tau_decay\n",
    "    row = 0\n",
    "    col = 1\n",
    "    sc = axs[row, col].scatter(data=dataframe, x=x_ax, y='tau_decay', c=c_ax, cmap=cm, alpha=alpha)\n",
    "    fig.colorbar(sc, ax=axs[row, col])\n",
    "    if log_x:\n",
    "        axs[row, col].set_xscale('log')\n",
    "    axs[row, col].set_yscale('log')\n",
    "    axs[row, col].set_xlabel(x_ax)\n",
    "    axs[row, col].set_ylabel('log(tau_decay)')\n",
    "    \n",
    "    #axs[row, col].set_xlim(right=10e1)\n",
    "    #axs[row, col].set_ylim(top=10e6)\n",
    "\n",
    "    # tau_rise_dqpo\n",
    "    row = 1\n",
    "    col = 0\n",
    "    sc = axs[row, col].scatter(data=dataframe, x=x_ax, y='tau_rise_dqpo', c=c_ax, cmap=cm, alpha=alpha)\n",
    "    fig.colorbar(sc, ax=axs[row, col])\n",
    "    if log_x:\n",
    "        axs[row, col].set_xscale('log')\n",
    "    axs[row, col].set_yscale('log')\n",
    "    axs[row, col].set_xlabel(x_ax)\n",
    "    axs[row, col].set_ylabel('log(tau_rise_dqpo)')\n",
    "\n",
    "    #axs[row, col].set_xlim(right=10e1)\n",
    "    #axs[row, col].set_ylim(top=10e3)\n",
    "    \n",
    "    # tau_perturb\n",
    "    row = 1\n",
    "    col = 1\n",
    "    sc = axs[row, col].scatter(data=dataframe, x=x_ax, y='tau_perturb', c=c_ax, cmap=cm, alpha=alpha)\n",
    "    fig.colorbar(sc, ax=axs[row, col])\n",
    "    if log_x:\n",
    "        axs[row, col].set_xscale('log')\n",
    "    axs[row, col].set_yscale('log')\n",
    "    axs[row, col].set_xlabel(x_ax)\n",
    "    axs[row, col].set_ylabel('log(tau_perturb)')\n",
    "    \n",
    "    #axs[row, col].set_xlim(right=10e1)\n",
    "    #axs[row, col].set_ylim(top=10e4)\n",
    "\n",
    "    # tau_decorr\n",
    "    row = 2\n",
    "    col = 0\n",
    "    sc = axs[row, col].scatter(data=dataframe, x=x_ax, y='tau_decorr', c=c_ax, cmap=cm, alpha=alpha)\n",
    "    fig.colorbar(sc, ax=axs[row, col])\n",
    "    if log_x:\n",
    "        axs[row, col].set_xscale('log')\n",
    "    axs[row, col].set_yscale('log')\n",
    "    axs[row, col].set_xlabel(x_ax)\n",
    "    axs[row, col].set_ylabel('log(tau_decorr)')\n",
    "    \n",
    "    #axs[row, col].set_xlim(right=10e1)\n",
    "    #axs[row, col].set_ylim(top=10e7)\n",
    "\n",
    "    # omega_0\n",
    "    row = 2\n",
    "    col = 1\n",
    "    sc = axs[row, col].scatter(data=dataframe, x=x_ax, y='omega_0', c=c_ax, cmap=cm, alpha=alpha)\n",
    "    fig.colorbar(sc, ax=axs[row, col])\n",
    "    if log_x:\n",
    "        axs[row, col].set_xscale('log')\n",
    "    axs[row, col].set_yscale('log')\n",
    "    axs[row, col].set_xlabel(x_ax)\n",
    "    axs[row, col].set_ylabel('log(omega_0)')\n",
    "    \n",
    "    #axs[row, col].set_xlim(right=10e1)\n",
    "    #axs[row, col].set_ylim(top=10e3)\n",
    "    \n",
    "    if name != '':\n",
    "        plt.savefig(f'{name}.png')"
   ]
  },
  {
   "cell_type": "markdown",
   "id": "05a2db43-6b54-4bf9-b1d8-847f89d32966",
   "metadata": {
    "tags": []
   },
   "source": [
    "#### Timescales vs log_Lbol and DHO Terms"
   ]
  },
  {
   "cell_type": "code",
   "execution_count": 13,
   "id": "7455d591-20b6-413f-a2cb-91da7b9ecfa4",
   "metadata": {},
   "outputs": [
    {
     "data": {
      "text/html": [
       "<div>\n",
       "<style scoped>\n",
       "    .dataframe tbody tr th:only-of-type {\n",
       "        vertical-align: middle;\n",
       "    }\n",
       "\n",
       "    .dataframe tbody tr th {\n",
       "        vertical-align: top;\n",
       "    }\n",
       "\n",
       "    .dataframe thead th {\n",
       "        text-align: right;\n",
       "    }\n",
       "</style>\n",
       "<table border=\"1\" class=\"dataframe\">\n",
       "  <thead>\n",
       "    <tr style=\"text-align: right;\">\n",
       "      <th></th>\n",
       "      <th>BAT ID</th>\n",
       "      <th>log_Lbol</th>\n",
       "      <th>log_Mbh</th>\n",
       "      <th>a1</th>\n",
       "      <th>a2</th>\n",
       "      <th>b0</th>\n",
       "      <th>b1</th>\n",
       "      <th>SNR</th>\n",
       "      <th>z[OIII]_x</th>\n",
       "      <th>log_Eratio</th>\n",
       "      <th>xi</th>\n",
       "      <th>tau_decay</th>\n",
       "      <th>tau_rise_dqpo</th>\n",
       "      <th>tau_perturb</th>\n",
       "      <th>tau_decorr</th>\n",
       "      <th>omega_0</th>\n",
       "    </tr>\n",
       "  </thead>\n",
       "  <tbody>\n",
       "    <tr>\n",
       "      <th>0</th>\n",
       "      <td>1</td>\n",
       "      <td>44.53</td>\n",
       "      <td>6.42</td>\n",
       "      <td>0.742693</td>\n",
       "      <td>4668.443210</td>\n",
       "      <td>31.442913</td>\n",
       "      <td>1.032423e+00</td>\n",
       "      <td>682.784148</td>\n",
       "      <td>0.037484</td>\n",
       "      <td>0.00</td>\n",
       "      <td>0.005435</td>\n",
       "      <td>2.692902</td>\n",
       "      <td>0.091962</td>\n",
       "      <td>3.283483e-02</td>\n",
       "      <td>0.144449</td>\n",
       "      <td>68.326007</td>\n",
       "    </tr>\n",
       "    <tr>\n",
       "      <th>1</th>\n",
       "      <td>4</td>\n",
       "      <td>44.58</td>\n",
       "      <td>7.85</td>\n",
       "      <td>1086.645623</td>\n",
       "      <td>72.650987</td>\n",
       "      <td>174.485868</td>\n",
       "      <td>4.120712e+01</td>\n",
       "      <td>678.199206</td>\n",
       "      <td>0.039689</td>\n",
       "      <td>NaN</td>\n",
       "      <td>63.743687</td>\n",
       "      <td>14.956146</td>\n",
       "      <td>0.000920</td>\n",
       "      <td>2.361631e-01</td>\n",
       "      <td>23.494505</td>\n",
       "      <td>8.523555</td>\n",
       "    </tr>\n",
       "    <tr>\n",
       "      <th>2</th>\n",
       "      <td>5</td>\n",
       "      <td>45.38</td>\n",
       "      <td>NaN</td>\n",
       "      <td>2.301411</td>\n",
       "      <td>0.019597</td>\n",
       "      <td>0.231441</td>\n",
       "      <td>1.658943e+00</td>\n",
       "      <td>134.024589</td>\n",
       "      <td>0.096416</td>\n",
       "      <td>NaN</td>\n",
       "      <td>8.219890</td>\n",
       "      <td>116.998949</td>\n",
       "      <td>0.436136</td>\n",
       "      <td>7.167888e+00</td>\n",
       "      <td>184.466599</td>\n",
       "      <td>0.139990</td>\n",
       "    </tr>\n",
       "    <tr>\n",
       "      <th>3</th>\n",
       "      <td>6</td>\n",
       "      <td>44.80</td>\n",
       "      <td>7.29</td>\n",
       "      <td>18.479621</td>\n",
       "      <td>0.188485</td>\n",
       "      <td>3.276205</td>\n",
       "      <td>9.915132e-01</td>\n",
       "      <td>1332.673271</td>\n",
       "      <td>0.025934</td>\n",
       "      <td>-0.67</td>\n",
       "      <td>21.282623</td>\n",
       "      <td>97.989004</td>\n",
       "      <td>0.054144</td>\n",
       "      <td>3.026407e-01</td>\n",
       "      <td>154.005815</td>\n",
       "      <td>0.434148</td>\n",
       "    </tr>\n",
       "    <tr>\n",
       "      <th>4</th>\n",
       "      <td>28</td>\n",
       "      <td>44.63</td>\n",
       "      <td>6.93</td>\n",
       "      <td>5.198760</td>\n",
       "      <td>0.118977</td>\n",
       "      <td>0.967640</td>\n",
       "      <td>2.530884e+00</td>\n",
       "      <td>798.718882</td>\n",
       "      <td>0.022065</td>\n",
       "      <td>-0.42</td>\n",
       "      <td>7.535967</td>\n",
       "      <td>43.502442</td>\n",
       "      <td>0.193208</td>\n",
       "      <td>2.615524e+00</td>\n",
       "      <td>68.636966</td>\n",
       "      <td>0.344930</td>\n",
       "    </tr>\n",
       "    <tr>\n",
       "      <th>...</th>\n",
       "      <td>...</td>\n",
       "      <td>...</td>\n",
       "      <td>...</td>\n",
       "      <td>...</td>\n",
       "      <td>...</td>\n",
       "      <td>...</td>\n",
       "      <td>...</td>\n",
       "      <td>...</td>\n",
       "      <td>...</td>\n",
       "      <td>...</td>\n",
       "      <td>...</td>\n",
       "      <td>...</td>\n",
       "      <td>...</td>\n",
       "      <td>...</td>\n",
       "      <td>...</td>\n",
       "      <td>...</td>\n",
       "    </tr>\n",
       "    <tr>\n",
       "      <th>381</th>\n",
       "      <td>24</td>\n",
       "      <td>44.35</td>\n",
       "      <td>NaN</td>\n",
       "      <td>1559.027551</td>\n",
       "      <td>455.764309</td>\n",
       "      <td>830.964409</td>\n",
       "      <td>4.189180e+01</td>\n",
       "      <td>1211.792913</td>\n",
       "      <td>0.025434</td>\n",
       "      <td>NaN</td>\n",
       "      <td>36.513515</td>\n",
       "      <td>3.420047</td>\n",
       "      <td>0.000642</td>\n",
       "      <td>5.041347e-02</td>\n",
       "      <td>5.373204</td>\n",
       "      <td>21.348637</td>\n",
       "    </tr>\n",
       "    <tr>\n",
       "      <th>382</th>\n",
       "      <td>316</td>\n",
       "      <td>44.60</td>\n",
       "      <td>7.79</td>\n",
       "      <td>0.239573</td>\n",
       "      <td>0.000754</td>\n",
       "      <td>0.018741</td>\n",
       "      <td>1.741356e-09</td>\n",
       "      <td>1280.184352</td>\n",
       "      <td>0.032888</td>\n",
       "      <td>-1.36</td>\n",
       "      <td>4.360995</td>\n",
       "      <td>313.305699</td>\n",
       "      <td>4.230454</td>\n",
       "      <td>9.291800e-08</td>\n",
       "      <td>498.784621</td>\n",
       "      <td>0.027468</td>\n",
       "    </tr>\n",
       "    <tr>\n",
       "      <th>383</th>\n",
       "      <td>317</td>\n",
       "      <td>44.01</td>\n",
       "      <td>8.94</td>\n",
       "      <td>508.337355</td>\n",
       "      <td>7.334812</td>\n",
       "      <td>30.060727</td>\n",
       "      <td>3.028067e+01</td>\n",
       "      <td>1203.276696</td>\n",
       "      <td>0.017491</td>\n",
       "      <td>NaN</td>\n",
       "      <td>93.848543</td>\n",
       "      <td>69.302788</td>\n",
       "      <td>0.001967</td>\n",
       "      <td>1.007317e+00</td>\n",
       "      <td>108.863656</td>\n",
       "      <td>2.708286</td>\n",
       "    </tr>\n",
       "    <tr>\n",
       "      <th>384</th>\n",
       "      <td>318</td>\n",
       "      <td>44.77</td>\n",
       "      <td>8.12</td>\n",
       "      <td>7.690914</td>\n",
       "      <td>0.029642</td>\n",
       "      <td>0.666959</td>\n",
       "      <td>8.268291e-01</td>\n",
       "      <td>640.464361</td>\n",
       "      <td>0.089771</td>\n",
       "      <td>-1.53</td>\n",
       "      <td>22.335593</td>\n",
       "      <td>259.333867</td>\n",
       "      <td>0.130089</td>\n",
       "      <td>1.239701e+00</td>\n",
       "      <td>407.565028</td>\n",
       "      <td>0.172167</td>\n",
       "    </tr>\n",
       "    <tr>\n",
       "      <th>385</th>\n",
       "      <td>325</td>\n",
       "      <td>44.66</td>\n",
       "      <td>6.80</td>\n",
       "      <td>4.342786</td>\n",
       "      <td>312879.093000</td>\n",
       "      <td>0.022880</td>\n",
       "      <td>2.880601e+00</td>\n",
       "      <td>1186.235166</td>\n",
       "      <td>0.013439</td>\n",
       "      <td>-0.25</td>\n",
       "      <td>0.003882</td>\n",
       "      <td>0.460534</td>\n",
       "      <td>0.011233</td>\n",
       "      <td>1.259000e+02</td>\n",
       "      <td>0.017645</td>\n",
       "      <td>559.355963</td>\n",
       "    </tr>\n",
       "  </tbody>\n",
       "</table>\n",
       "<p>313 rows × 16 columns</p>\n",
       "</div>"
      ],
      "text/plain": [
       "     BAT ID  log_Lbol  log_Mbh           a1             a2          b0  \\\n",
       "0         1     44.53     6.42     0.742693    4668.443210   31.442913   \n",
       "1         4     44.58     7.85  1086.645623      72.650987  174.485868   \n",
       "2         5     45.38      NaN     2.301411       0.019597    0.231441   \n",
       "3         6     44.80     7.29    18.479621       0.188485    3.276205   \n",
       "4        28     44.63     6.93     5.198760       0.118977    0.967640   \n",
       "..      ...       ...      ...          ...            ...         ...   \n",
       "381      24     44.35      NaN  1559.027551     455.764309  830.964409   \n",
       "382     316     44.60     7.79     0.239573       0.000754    0.018741   \n",
       "383     317     44.01     8.94   508.337355       7.334812   30.060727   \n",
       "384     318     44.77     8.12     7.690914       0.029642    0.666959   \n",
       "385     325     44.66     6.80     4.342786  312879.093000    0.022880   \n",
       "\n",
       "               b1          SNR  z[OIII]_x  log_Eratio         xi   tau_decay  \\\n",
       "0    1.032423e+00   682.784148   0.037484        0.00   0.005435    2.692902   \n",
       "1    4.120712e+01   678.199206   0.039689         NaN  63.743687   14.956146   \n",
       "2    1.658943e+00   134.024589   0.096416         NaN   8.219890  116.998949   \n",
       "3    9.915132e-01  1332.673271   0.025934       -0.67  21.282623   97.989004   \n",
       "4    2.530884e+00   798.718882   0.022065       -0.42   7.535967   43.502442   \n",
       "..            ...          ...        ...         ...        ...         ...   \n",
       "381  4.189180e+01  1211.792913   0.025434         NaN  36.513515    3.420047   \n",
       "382  1.741356e-09  1280.184352   0.032888       -1.36   4.360995  313.305699   \n",
       "383  3.028067e+01  1203.276696   0.017491         NaN  93.848543   69.302788   \n",
       "384  8.268291e-01   640.464361   0.089771       -1.53  22.335593  259.333867   \n",
       "385  2.880601e+00  1186.235166   0.013439       -0.25   0.003882    0.460534   \n",
       "\n",
       "     tau_rise_dqpo   tau_perturb  tau_decorr     omega_0  \n",
       "0         0.091962  3.283483e-02    0.144449   68.326007  \n",
       "1         0.000920  2.361631e-01   23.494505    8.523555  \n",
       "2         0.436136  7.167888e+00  184.466599    0.139990  \n",
       "3         0.054144  3.026407e-01  154.005815    0.434148  \n",
       "4         0.193208  2.615524e+00   68.636966    0.344930  \n",
       "..             ...           ...         ...         ...  \n",
       "381       0.000642  5.041347e-02    5.373204   21.348637  \n",
       "382       4.230454  9.291800e-08  498.784621    0.027468  \n",
       "383       0.001967  1.007317e+00  108.863656    2.708286  \n",
       "384       0.130089  1.239701e+00  407.565028    0.172167  \n",
       "385       0.011233  1.259000e+02    0.017645  559.355963  \n",
       "\n",
       "[313 rows x 16 columns]"
      ]
     },
     "execution_count": 13,
     "metadata": {},
     "output_type": "execute_result"
    }
   ],
   "source": [
    "a1s = []\n",
    "a2s = [] \n",
    "b0s = []\n",
    "b1s = []\n",
    "\n",
    "for index, row in agn_dataframe.iterrows():\n",
    "    dho_terms = convert_to_float_list(row['DHO MCMC Fit'])\n",
    "    bounds = [15, 15, 10, 10]\n",
    "    \n",
    "    apply_bounds = False\n",
    "    \n",
    "    if apply_bounds:\n",
    "        # if dho_term > bound (same bound as in pp) then use the bound\n",
    "        a1s.append(dho_terms[0] if dho_terms[0] < bounds[0] else bounds[0])\n",
    "        a2s.append(dho_terms[1] if dho_terms[1] < bounds[1] else bounds[1])\n",
    "        b0s.append(dho_terms[2] if dho_terms[2] < bounds[2] else bounds[2])\n",
    "        b1s.append(dho_terms[3] if dho_terms[3] < bounds[3] else bounds[3])\n",
    "    else: \n",
    "        a1s.append(dho_terms[0])\n",
    "        a2s.append(dho_terms[1])\n",
    "        b0s.append(dho_terms[2])\n",
    "        b1s.append(dho_terms[3])\n",
    "    \n",
    "dho_fit_data = pd.DataFrame({'BAT ID': agn_dataframe['BAT ID'], 'log_Lbol': agn_dataframe['log_Lbol'], 'log_Mbh': agn_dataframe['log_Mbh'],\n",
    "                             'a1': a1s, 'a2': a2s, 'b0': b0s, 'b1': b1s,\n",
    "                             'SNR': agn_dataframe['SNR'], 'z[OIII]_x': agn_dataframe['z[OIII]_x'], 'log_Eratio': agn_dataframe['log_Eratio'], \n",
    "                             'xi': agn_dataframe['xi'], \n",
    "                             'tau_decay': agn_dataframe['tau_decay'], 'tau_rise_dqpo': agn_dataframe['tau_rise_dqpo'], 'tau_perturb': agn_dataframe['tau_perturb'], 'tau_decorr': agn_dataframe['tau_decorr'], \n",
    "                             'omega_0': agn_dataframe['omega_0']})\n",
    "dho_fit_data"
   ]
  },
  {
   "cell_type": "code",
   "execution_count": null,
   "id": "58526ef0-526b-46ff-b55e-e1ff5e0e2bb6",
   "metadata": {},
   "outputs": [],
   "source": [
    "color_plot(dho_fit_data, 'log_Lbol', 'a1', 'timescales_Lbol_a1', alpha=0.5)\n",
    "color_plot(dho_fit_data, 'log_Lbol', 'a2', 'timescales_Lbol_a2', alpha=0.5)\n",
    "color_plot(dho_fit_data, 'log_Lbol', 'b0', 'timescales_Lbol_b0', alpha=0.5)\n",
    "color_plot(dho_fit_data, 'log_Lbol', 'b1', 'timescales_Lbol_b1', alpha=0.5)"
   ]
  },
  {
   "cell_type": "code",
   "execution_count": 16,
   "id": "e23d6fd1-b874-4bac-a5cc-3622f0b6fd42",
   "metadata": {},
   "outputs": [],
   "source": [
    "import matplotlib\n",
    "def log_color_plot(dataframe, x_ax, c_ax, name=''):\n",
    "    fig, axs = plt.subplots(3, 2, figsize=(16, 16))\n",
    "    cm = plt.cm.get_cmap('RdYlBu')\n",
    "\n",
    "    # xi\n",
    "    row = 0\n",
    "    col = 0\n",
    "    sc = axs[row, col].scatter(data=dataframe, x=x_ax, y='xi', c=c_ax, cmap=cm, norm=matplotlib.colors.LogNorm())\n",
    "    fig.colorbar(sc, ax=axs[row, col])\n",
    "    axs[row, col].set_yscale('log')\n",
    "    axs[row, col].set_xlabel(x_ax)\n",
    "    axs[row, col].set_ylabel('log(xi)')\n",
    "\n",
    "    # tau_decay\n",
    "    row = 0\n",
    "    col = 1\n",
    "    sc = axs[row, col].scatter(data=dataframe, x=x_ax, y='tau_decay', c=c_ax, cmap=cm, norm=matplotlib.colors.LogNorm())\n",
    "    fig.colorbar(sc, ax=axs[row, col])\n",
    "    axs[row, col].set_yscale('log')\n",
    "    axs[row, col].set_xlabel(x_ax)\n",
    "    axs[row, col].set_ylabel('log(tau_decay)')\n",
    "\n",
    "    # tau_rise_dqpo\n",
    "    row = 1\n",
    "    col = 0\n",
    "    sc = axs[row, col].scatter(data=dataframe, x=x_ax, y='tau_rise_dqpo', c=c_ax, cmap=cm, norm=matplotlib.colors.LogNorm())\n",
    "    fig.colorbar(sc, ax=axs[row, col])\n",
    "    axs[row, col].set_yscale('log')\n",
    "    axs[row, col].set_xlabel(x_ax)\n",
    "    axs[row, col].set_ylabel('log(tau_rise_dqpo)')\n",
    "\n",
    "    # tau_perturb\n",
    "    row = 1\n",
    "    col = 1\n",
    "    sc = axs[row, col].scatter(data=dataframe, x=x_ax, y='tau_perturb', c=c_ax, cmap=cm, norm=matplotlib.colors.LogNorm())\n",
    "    fig.colorbar(sc, ax=axs[row, col])\n",
    "    axs[row, col].set_yscale('log')\n",
    "    axs[row, col].set_xlabel(x_ax)\n",
    "    axs[row, col].set_ylabel('log(tau_perturb)')\n",
    "\n",
    "    # tau_decorr\n",
    "    row = 2\n",
    "    col = 0\n",
    "    sc = axs[row, col].scatter(data=dataframe, x=x_ax, y='tau_decorr', c=c_ax, cmap=cm, norm=matplotlib.colors.LogNorm())\n",
    "    fig.colorbar(sc, ax=axs[row, col])\n",
    "    axs[row, col].set_yscale('log')\n",
    "    axs[row, col].set_xlabel(x_ax)\n",
    "    axs[row, col].set_ylabel('log(tau_decorr)')\n",
    "\n",
    "    # omega_0\n",
    "    row = 2\n",
    "    col = 1\n",
    "    sc = axs[row, col].scatter(data=dataframe, x=x_ax, y='omega_0', c=c_ax, cmap=cm, norm=matplotlib.colors.LogNorm())\n",
    "    fig.colorbar(sc, ax=axs[row, col])\n",
    "    axs[row, col].set_yscale('log')\n",
    "    axs[row, col].set_xlabel(x_ax)\n",
    "    axs[row, col].set_ylabel('log(omega_0)')\n",
    "    \n",
    "    if name != '':\n",
    "        plt.savefig(f'{name}.png')"
   ]
  },
  {
   "cell_type": "code",
   "execution_count": null,
   "id": "e29acd4f-9d94-47c5-9753-961e02a17dd2",
   "metadata": {},
   "outputs": [],
   "source": [
    "log_color_plot(dho_fit_data, 'log_Lbol', 'a1', 'timescales_Lbol_loga1')\n",
    "log_color_plot(dho_fit_data, 'log_Lbol', 'a2', 'timescales_Lbol_loga2')\n",
    "log_color_plot(dho_fit_data, 'log_Lbol', 'b0', 'timescales_Lbol_logb0')\n",
    "log_color_plot(dho_fit_data, 'log_Lbol', 'b1', 'timescales_Lbol_logb1')"
   ]
  },
  {
   "cell_type": "code",
   "execution_count": null,
   "id": "4838c9c4-caad-4b0d-837c-bcb641c11554",
   "metadata": {},
   "outputs": [],
   "source": [
    "color_plot(dho_fit_data, 'a1', 'log_Lbol', 'timescales_loga1_Lbol', log_x=True, alpha=0.5)\n",
    "color_plot(dho_fit_data, 'a2', 'log_Lbol', 'timescales_loga2_Lbol', log_x=True, alpha=0.5)\n",
    "color_plot(dho_fit_data, 'b0', 'log_Lbol', 'timescales_logb0_Lbol', log_x=True, alpha=0.5)\n",
    "color_plot(dho_fit_data, 'b1', 'log_Lbol', 'timescales_logb1_Lbol', log_x=True, alpha=0.5)"
   ]
  },
  {
   "cell_type": "code",
   "execution_count": null,
   "id": "ca4743e7-eac2-42fd-a8fa-88bd3c7e0998",
   "metadata": {},
   "outputs": [],
   "source": [
    "log_color_plot(dho_fit_data, 'log_Mbh', 'a1', 'timescales_Mbh_loga1')\n",
    "log_color_plot(dho_fit_data, 'log_Mbh', 'a2', 'timescales_Mbh_loga2')\n",
    "log_color_plot(dho_fit_data, 'log_Mbh', 'b0', 'timescales_Mbh_logb0')\n",
    "log_color_plot(dho_fit_data, 'log_Mbh', 'b1', 'timescales_Mbh_logb1')"
   ]
  },
  {
   "cell_type": "code",
   "execution_count": null,
   "id": "c2a8cd20-1352-48df-be3e-125977a63354",
   "metadata": {},
   "outputs": [],
   "source": [
    "color_plot(dho_fit_data, 'a1', 'log_Mbh', 'timescales_loga1_Mbh', log_x=True, alpha=0.5)\n",
    "color_plot(dho_fit_data, 'a2', 'log_Mbh', 'timescales_loga2_Mbh', log_x=True, alpha=0.5)\n",
    "color_plot(dho_fit_data, 'b0', 'log_Mbh', 'timescales_logb0_Mbh', log_x=True, alpha=0.5)\n",
    "color_plot(dho_fit_data, 'b1', 'log_Mbh', 'timescales_logb1_Mbh', log_x=True, alpha=0.5)"
   ]
  },
  {
   "cell_type": "code",
   "execution_count": null,
   "id": "3065d729-eebb-49c3-a902-4a69ab89c02f",
   "metadata": {},
   "outputs": [],
   "source": [
    "color_plot(dho_fit_data, 'xi', 'log_Lbol', 'timescales_xi_Lbol_alpha50', log_x=True, alpha=0.5)\n",
    "color_plot(dho_fit_data, 'tau_decay', 'log_Lbol', 'timescales_tau_decay_Lbol_alpha50', log_x=True, alpha=0.5)\n",
    "color_plot(dho_fit_data, 'tau_rise_dqpo', 'log_Lbol', 'timescales_tau_rise_dqpo_Lbol_alpha50', log_x=True, alpha=0.5)\n",
    "color_plot(dho_fit_data, 'tau_perturb', 'log_Lbol', 'timescales_tau_perturb_Lbol_alpha50', log_x=True, alpha=0.5)\n",
    "color_plot(dho_fit_data, 'tau_decorr', 'log_Lbol', 'timescales_tau_decorr_Lbol_alpha50', log_x=True, alpha=0.5)\n",
    "color_plot(dho_fit_data, 'omega_0', 'log_Lbol', 'timescales_omega_0_Lbol_alpha50', log_x=True, alpha=0.5)"
   ]
  },
  {
   "cell_type": "code",
   "execution_count": null,
   "id": "ba6ccb3c-3757-4b9a-943e-f3110c2bf7af",
   "metadata": {},
   "outputs": [],
   "source": [
    "color_plot(dho_fit_data, 'xi', 'log_Mbh', 'timescales_xi_Mbh_alpha50', log_x=True, alpha=0.5)\n",
    "color_plot(dho_fit_data, 'tau_decay', 'log_Mbh', 'timescales_tau_decay_Mbh_alpha50', log_x=True, alpha=0.5)\n",
    "color_plot(dho_fit_data, 'tau_rise_dqpo', 'log_Mbh', 'timescales_tau_rise_dqpo_Mbh_alpha50', log_x=True, alpha=0.5)\n",
    "color_plot(dho_fit_data, 'tau_perturb', 'log_Mbh', 'timescales_tau_perturb_Mbh_alpha50', log_x=True, alpha=0.5)\n",
    "color_plot(dho_fit_data, 'tau_decorr', 'log_Mbh', 'timescales_tau_decorr_Mbh_alpha50', log_x=True, alpha=0.5)\n",
    "color_plot(dho_fit_data, 'omega_0', 'log_Mbh', 'timescales_omega_0_Mbh_alpha50', log_x=True, alpha=0.5)"
   ]
  },
  {
   "cell_type": "markdown",
   "id": "cb4ba5fd-a6c2-449d-b48b-4c8d76a71975",
   "metadata": {
    "tags": []
   },
   "source": [
    "#### SNR, z[OIII], & Eratio"
   ]
  },
  {
   "cell_type": "code",
   "execution_count": null,
   "id": "ddce3b29-6315-4180-b2a6-d5482cc953a0",
   "metadata": {},
   "outputs": [],
   "source": [
    "# lob_Lbol\n",
    "color_plot(agn_dataframe, 'SNR', 'log_Lbol', 'timescales_SNR_Lbol', log_x=True)\n",
    "color_plot(agn_dataframe, 'z[OIII]_x', 'log_Lbol', 'timescales_z[OIII]_x_Lbol', log_x=True)\n",
    "color_plot(agn_dataframe, 'log_Eratio', 'log_Lbol', 'timescales_log_Eratio_Lbol', log_x=True)\n",
    "\n",
    "# log_Mbh\n",
    "color_plot(agn_dataframe, 'SNR', 'log_Mbh', 'timescales_SNR_Mbh', log_x=True)\n",
    "color_plot(agn_dataframe, 'z[OIII]_x', 'log_Mbh', 'timescales_z[OIII]_x_Mbh', log_x=True)\n",
    "color_plot(agn_dataframe, 'log_Eratio', 'log_Mbh', 'timescales_log_Eratio_Mbh', log_x=True)"
   ]
  },
  {
   "cell_type": "code",
   "execution_count": null,
   "id": "8234c1eb-3ec2-46e7-a83f-9269c037f78b",
   "metadata": {},
   "outputs": [],
   "source": [
    "color_plot(dho_fit_data, 'SNR', 'a1', 'timescales_SNR_loga1_alpha50', log_x=True, alpha=0.5)\n",
    "color_plot(dho_fit_data, 'SNR', 'a2', 'timescales_SNR_loga2_alpha50', log_x=True, alpha=0.5)\n",
    "color_plot(dho_fit_data, 'SNR', 'b0', 'timescales_SNR_logb0_alpha50', log_x=True, alpha=0.5)\n",
    "color_plot(dho_fit_data, 'SNR', 'b1', 'timescales_SNR_logb1_alpha50', log_x=True, alpha=0.5)"
   ]
  },
  {
   "cell_type": "code",
   "execution_count": null,
   "id": "b3d9bea8-1ed5-4961-ab65-3a8447679e10",
   "metadata": {},
   "outputs": [],
   "source": [
    "color_plot(dho_fit_data, 'z[OIII]_x', 'a1', 'timescales_z[OIII]_x_loga1_alpha50', log_x=True, alpha=0.5)\n",
    "color_plot(dho_fit_data, 'z[OIII]_x', 'a2', 'timescales_z[OIII]_x_loga2_alpha50', log_x=True, alpha=0.5)\n",
    "color_plot(dho_fit_data, 'z[OIII]_x', 'b0', 'timescales_z[OIII]_x_logb0_alpha50', log_x=True, alpha=0.5)\n",
    "color_plot(dho_fit_data, 'z[OIII]_x', 'b1', 'timescales_z[OIII]_x_logb1_alpha50', log_x=True, alpha=0.5)"
   ]
  },
  {
   "cell_type": "code",
   "execution_count": null,
   "id": "5882ce5d-7fab-4125-99f6-72c7f84dddd4",
   "metadata": {},
   "outputs": [],
   "source": [
    "color_plot(dho_fit_data, 'log_Eratio', 'a1', 'timescales_log_Eratio_loga1_alpha50', log_x=True, alpha=0.5)\n",
    "color_plot(dho_fit_data, 'log_Eratio', 'a2', 'timescales_log_Eratio_loga2_alpha50', log_x=True, alpha=0.5)\n",
    "color_plot(dho_fit_data, 'log_Eratio', 'b0', 'timescales_log_Eratio_logb0_alpha50', log_x=True, alpha=0.5)\n",
    "color_plot(dho_fit_data, 'log_Eratio', 'b1', 'timescales_log_Eratio_logb1_alpha50', log_x=True, alpha=0.5)"
   ]
  },
  {
   "cell_type": "markdown",
   "id": "7d3fbce8-a4ff-4f50-8eaf-b6ae3d891d2c",
   "metadata": {
    "jp-MarkdownHeadingCollapsed": true,
    "tags": []
   },
   "source": [
    "#### Timescales vs redshift"
   ]
  },
  {
   "cell_type": "code",
   "execution_count": null,
   "id": "57825cc0-15b7-4523-959e-f4f25c2b3f6c",
   "metadata": {},
   "outputs": [],
   "source": [
    "fig, axs = plt.subplots(3, 2, figsize=(16, 16))\n",
    "x_ax = 'z[OIII]_x'\n",
    "\n",
    "# xi\n",
    "row = 0\n",
    "col = 0\n",
    "sc = axs[row, col].scatter(data=agn_dataframe, x=x_ax, y='xi')\n",
    "axs[row, col].set_yscale('log')\n",
    "axs[row, col].set_xscale('log')\n",
    "axs[row, col].set_xlabel(x_ax)\n",
    "axs[row, col].set_ylabel('log(xi)')\n",
    "\n",
    "# tau_decay\n",
    "row = 0\n",
    "col = 1\n",
    "axs[row, col].scatter(data=agn_dataframe, x=x_ax, y='tau_decay')\n",
    "axs[row, col].set_yscale('log')\n",
    "axs[row, col].set_xscale('log')\n",
    "axs[row, col].set_xlabel(x_ax)\n",
    "axs[row, col].set_ylabel('log(tau_decay)')\n",
    "\n",
    "# tau_rise_dqpo\n",
    "row = 1\n",
    "col = 0\n",
    "axs[row, col].scatter(data=agn_dataframe, x=x_ax, y='tau_rise_dqpo')\n",
    "axs[row, col].set_yscale('log')\n",
    "axs[row, col].set_xscale('log')\n",
    "axs[row, col].set_xlabel(x_ax)\n",
    "axs[row, col].set_ylabel('log(tau_rise_dqpo)')\n",
    "\n",
    "# tau_perturb\n",
    "row = 1\n",
    "col = 1\n",
    "axs[row, col].scatter(data=agn_dataframe, x=x_ax, y='tau_perturb')\n",
    "axs[row, col].set_yscale('log')\n",
    "axs[row, col].set_xscale('log')\n",
    "axs[row, col].set_xlabel(x_ax)\n",
    "axs[row, col].set_ylabel('log(tau_perturb)')\n",
    "\n",
    "# tau_decorr\n",
    "row = 2\n",
    "col = 0\n",
    "axs[row, col].scatter(data=agn_dataframe, x=x_ax, y='tau_decorr')\n",
    "axs[row, col].set_yscale('log')\n",
    "axs[row, col].set_xscale('log')\n",
    "axs[row, col].set_xlabel(x_ax)\n",
    "axs[row, col].set_ylabel('log(tau_decorr)')\n",
    "\n",
    "# omega_0\n",
    "row = 2\n",
    "col = 1\n",
    "axs[row, col].scatter(data=agn_dataframe, x=x_ax, y='omega_0')\n",
    "axs[row, col].set_yscale('log')\n",
    "axs[row, col].set_xscale('log')\n",
    "axs[row, col].set_xlabel(x_ax)\n",
    "axs[row, col].set_ylabel('log(omega_0)')\n",
    "\n",
    "plt.savefig('timescales_z[OIII].png')"
   ]
  },
  {
   "cell_type": "code",
   "execution_count": null,
   "id": "69fa8012-8d37-4374-9614-9b1253daceda",
   "metadata": {},
   "outputs": [],
   "source": [
    "# timescales vs timescales\n",
    "color_plot(agn_dataframe, 'xi', 'z[OIII]_x', 'timescales_xi_z[OIII]_x', log_x=True, alpha=0.5)\n",
    "color_plot(agn_dataframe, 'tau_decay', 'z[OIII]_x', 'timescales_tau_decay_z[OIII]_x', log_x=True, alpha=0.5)\n",
    "color_plot(agn_dataframe, 'tau_rise_dqpo', 'z[OIII]_x', 'timescales_tau_rise_dqpo_z[OIII]_x', log_x=True, alpha=0.5)\n",
    "color_plot(agn_dataframe, 'tau_perturb', 'z[OIII]_x', 'timescales_tau_perturb_z[OIII]_x', log_x=True, alpha=0.5)\n",
    "color_plot(agn_dataframe, 'tau_decorr', 'z[OIII]_x', 'timescales_tau_decorr_z[OIII]_x', log_x=True, alpha=0.5)\n",
    "color_plot(agn_dataframe, 'omega_0', 'z[OIII]_x', 'timescales_omega_0_z[OIII]_x', log_x=True, alpha=0.5)"
   ]
  },
  {
   "cell_type": "code",
   "execution_count": null,
   "id": "fa9bcf3c-71f7-4743-82c6-8766d12581e3",
   "metadata": {},
   "outputs": [],
   "source": [
    "# dho terms\n",
    "color_plot(dho_fit_data, 'z[OIII]_x', 'a1', 'timescales_z[OIII]_loga1', log_x=True, alpha=0.5)\n",
    "color_plot(dho_fit_data, 'z[OIII]_x', 'a2', 'timescales_z[OIII]_loga2', log_x=True, alpha=0.5)\n",
    "color_plot(dho_fit_data, 'z[OIII]_x', 'b0', 'timescales_z[OIII]_logb0', log_x=True, alpha=0.5)\n",
    "color_plot(dho_fit_data, 'z[OIII]_x', 'b1', 'timescales_z[OIII]_logb1', log_x=True, alpha=0.5)"
   ]
  },
  {
   "cell_type": "markdown",
   "id": "722f4762-d5c6-4dc8-961a-691f584b8fa8",
   "metadata": {
    "jp-MarkdownHeadingCollapsed": true,
    "tags": []
   },
   "source": [
    "#### Fig. 3 and Fig. 10"
   ]
  },
  {
   "cell_type": "code",
   "execution_count": null,
   "id": "bf22f0c7-deda-4785-8fac-407dcda7e494",
   "metadata": {},
   "outputs": [],
   "source": [
    "fig, axs = plt.subplots(2, figsize=(16, 16))\n",
    "cm = plt.cm.get_cmap('RdYlBu')\n",
    "c_ax = 'tau_decorr'\n",
    "alpha = 0.5\n",
    "\n",
    "# xi\n",
    "col = 0\n",
    "sc = axs[col].scatter(data=dho_fit_data, x='xi', y='omega_0', c=c_ax, cmap=cm, norm=matplotlib.colors.LogNorm(), alpha=alpha)\n",
    "fig.colorbar(sc, ax=axs[col])\n",
    "axs[col].set_xscale('log')\n",
    "axs[col].set_yscale('log')\n",
    "axs[col].set_xlabel('xi')\n",
    "axs[col].set_ylabel('log(omega_0)')\n",
    "\n",
    "col = 1\n",
    "sc = axs[col].scatter(data=dho_fit_data, x='b0', y='tau_perturb', c=c_ax, cmap=cm, norm=matplotlib.colors.LogNorm(), alpha=alpha)\n",
    "fig.colorbar(sc, ax=axs[col])\n",
    "axs[col].set_xscale('log')\n",
    "axs[col].set_yscale('log')\n",
    "axs[col].set_xlabel('b0')\n",
    "axs[col].set_ylabel('log(tau_perturb)')\n",
    "\n",
    "plt.savefig('figure_3.png')"
   ]
  },
  {
   "cell_type": "markdown",
   "id": "a8401383-7360-4255-9396-bcbc4f7b38d8",
   "metadata": {
    "tags": []
   },
   "source": [
    "#### tau_rise vs. omega_0 line"
   ]
  },
  {
   "cell_type": "code",
   "execution_count": 41,
   "id": "75160c00-80b5-4179-a2e3-79b9c691a9b5",
   "metadata": {},
   "outputs": [
    {
     "data": {
      "image/png": "[encoded data removed]",
      "text/plain": [
       "<Figure size 432x288 with 2 Axes>"
      ]
     },
     "metadata": {
      "needs_background": "light"
     },
     "output_type": "display_data"
    }
   ],
   "source": [
    "cm = plt.cm.get_cmap('RdYlBu')\n",
    "alpha = 0.5\n",
    "\n",
    "# xi\n",
    "col = 0\n",
    "sc = plt.scatter(data=agn_dataframe, x='omega_0', y='tau_rise_dqpo', c='log_Lbol', cmap=cm, alpha=alpha)\n",
    "cbar = plt.colorbar(sc)\n",
    "cbar.set_label('log(Lbol)')\n",
    "plt.xscale('log')\n",
    "plt.yscale('log')\n",
    "plt.xlabel('log(omega_0)')\n",
    "plt.ylabel('log(tau_rise)')\n",
    "\n",
    "plt.plot([10e-3, 10e3], [200, 0.0002])\n",
    "\n",
    "plt.savefig('tau_rise_vs_omega_0.png')"
   ]
  },
  {
   "cell_type": "code",
   "execution_count": 31,
   "id": "1633bdef-8b96-4fbc-86f1-2e1f43151855",
   "metadata": {},
   "outputs": [
    {
     "data": {
      "image/png": "[encoded data removed]",
      "text/plain": [
       "<Figure size 504x504 with 1 Axes>"
      ]
     },
     "metadata": {
      "needs_background": "light"
     },
     "output_type": "display_data"
    }
   ],
   "source": [
    "# grab updated dataframe\n",
    "agn_dataframe = pd.read_csv('agn_dataframe.csv')\n",
    "\n",
    "# exclude fits for which DHO_chi_sq is infinity\n",
    "agn_dataframe = agn_dataframe[agn_dataframe['DHO_chi_sq'] != np.inf]\n",
    "\n",
    "# create plot\n",
    "f, ax = plt.subplots(figsize=(7, 7))\n",
    "ax.set(xscale=\"log\", yscale=\"log\")\n",
    "ax.set_xlim([10e-6, 10e4])\n",
    "ax.set_ylim([10e-6, 10e4])\n",
    "sns.scatterplot(data=agn_dataframe, x='omega_0', y='tau_rise_dqpo', hue='rise-omega trendline')\n",
    "#plt.plot([10e-3, 10e3], [200, 0.0002])\n",
    "plt.plot([10e-4, 10e3], [2000, 0.0002], color='#FF7F0E')\n",
    "\n",
    "plt.text(x=15e-6, y=30e-6, s='trendline y = (2000 / 10e-4^p) * x^p \\nwhere p = log(2000/10e-4) / log(10e3/10e-4)')\n",
    "\n",
    "plt.savefig('tau-rise_omega0_trendline.png')"
   ]
  },
  {
   "cell_type": "markdown",
   "id": "a191e842-7f46-4f4c-8057-874750ea8f45",
   "metadata": {},
   "source": [
    "#### xi vs omega_0"
   ]
  },
  {
   "cell_type": "code",
   "execution_count": 16,
   "id": "b0d96e75-21ae-44a8-aee3-72554db18849",
   "metadata": {},
   "outputs": [
    {
     "data": {
      "image/png": "[encoded data removed]",
      "text/plain": [
       "<Figure size 504x504 with 1 Axes>"
      ]
     },
     "metadata": {
      "needs_background": "light"
     },
     "output_type": "display_data"
    }
   ],
   "source": [
    "fig, ax = plt.subplots(figsize=(7,7))\n",
    "\n",
    "ax.scatter(data=agn_dataframe, x='xi', y='omega_0')\n",
    "ax.set_xscale('log')\n",
    "ax.set_yscale('log')\n",
    "ax.set_xlabel('log(xi)')\n",
    "ax.set_ylabel('log(omega_0)')\n",
    "\n",
    "plt.savefig('xi_vs_omega_0.png')"
   ]
  },
  {
   "cell_type": "markdown",
   "id": "09ecdb10-634c-4488-967b-257021303470",
   "metadata": {},
   "source": [
    "## Corner"
   ]
  },
  {
   "cell_type": "code",
   "execution_count": 23,
   "id": "3110ea3c-c592-47fa-95d1-d18a0568e0eb",
   "metadata": {},
   "outputs": [
    {
     "name": "stderr",
     "output_type": "stream",
     "text": [
      "WARNING:root:Too few points to create valid contours\n",
      "WARNING:root:Too few points to create valid contours\n"
     ]
    },
    {
     "name": "stdout",
     "output_type": "stream",
     "text": [
      "(4, 313)\n",
      "(313, 4)\n"
     ]
    },
    {
     "name": "stderr",
     "output_type": "stream",
     "text": [
      "WARNING:root:Too few points to create valid contours\n",
      "WARNING:root:Too few points to create valid contours\n",
      "WARNING:root:Too few points to create valid contours\n",
      "WARNING:root:Too few points to create valid contours\n"
     ]
    },
    {
     "data": {
      "image/png": "[encoded data removed]",
      "text/plain": [
       "<Figure size 698.4x698.4 with 16 Axes>"
      ]
     },
     "metadata": {
      "needs_background": "light"
     },
     "output_type": "display_data"
    }
   ],
   "source": [
    "data = np.vstack([dho_fit_data['a1'].to_numpy(), dho_fit_data['a2'].to_numpy(), dho_fit_data['b0'].to_numpy(), dho_fit_data['b1'].to_numpy()])\n",
    "print(data.shape)\n",
    "print(data.T.shape)\n",
    "#corner.corner(data)\n",
    "corner.corner(data.T, titles=['a1', 'a2', 'b0', 'b1'], show_titles=True, range=[(0,10),(0,10),(0,15),(0,15)])\n",
    "plt.savefig('dho_param_corner.png')"
   ]
  }
 ],
 "metadata": {
  "kernelspec": {
   "display_name": "Python 3 (ipykernel)",
   "language": "python",
   "name": "python3"
  },
  "language_info": {
   "codemirror_mode": {
    "name": "ipython",
    "version": 3
   },
   "file_extension": ".py",
   "mimetype": "text/x-python",
   "name": "python",
   "nbconvert_exporter": "python",
   "pygments_lexer": "ipython3",
   "version": "3.9.7"
  }
 },
 "nbformat": 4,
 "nbformat_minor": 5
}
