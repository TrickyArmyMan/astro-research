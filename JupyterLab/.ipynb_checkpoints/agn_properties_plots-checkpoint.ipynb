{
 "cells": [
  {
   "cell_type": "code",
   "execution_count": null,
   "id": "0f3d0b43-1236-49e2-800a-d0899459e1c3",
   "metadata": {},
   "outputs": [],
   "source": []
  },
  {
   "cell_type": "code",
   "execution_count": null,
   "id": "8af0a65e-5630-4b20-bd63-5462881e3b1d",
   "metadata": {},
   "outputs": [],
   "source": [
    "import numpy as np\n",
    "import pandas as pd\n",
    "import seaborn as sns\n",
    "import matplotlib.pyplot as plt"
   ]
  },
  {
   "cell_type": "code",
   "execution_count": null,
   "id": "07213039-305c-497b-b4c3-22356a21dd81",
   "metadata": {},
   "outputs": [],
   "source": [
    "agn_dataframe = pd.read_csv(\"..\\adjusted_agn_dataframe.csv\")"
   ]
  },
  {
   "cell_type": "code",
   "execution_count": null,
   "id": "3dc999cc-5b82-44d9-9b6f-08644990b8bd",
   "metadata": {},
   "outputs": [],
   "source": [
    "flag = [float('inf')]\n",
    "\n",
    "# Converts a string into a float list.\n",
    "# String must be in the following format:\n",
    "# '[1.01, 2.02, 3.03, 4.04]'\n",
    "# Returns an array of len=1 with the one index='inf' if the String\n",
    "# cannont be converted into a list of floats.\n",
    "# Takes an optional string char for the characters to split by\n",
    "def convert_to_float_list(str_list, **kwargs):\n",
    "    char = kwargs.get('char', None)\n",
    "    debug = kwargs.get('debug', False)\n",
    "    \n",
    "    if debug:\n",
    "        print(str_list + ' foo')\n",
    "        \n",
    "    str_list = str_list.replace('[', '')\n",
    "    str_list = str_list.replace(']', '')\n",
    "    \n",
    "    if debug:\n",
    "        print(str_list + ' bar')\n",
    "    \n",
    "    try:\n",
    "        return [float(i) for i in str_list.split(char)]\n",
    "    except ValueError:\n",
    "        return flag"
   ]
  },
  {
   "cell_type": "code",
   "execution_count": null,
   "id": "c249bfd6-5a41-4bfe-b9a7-47947647413f",
   "metadata": {},
   "outputs": [],
   "source": [
    "fig, axs = plt.subplots(3, 2, figsize=(16, 12))\n",
    "\n",
    "#######\n",
    "# row 0\n",
    "#######\n",
    "row = 0\n",
    "\n",
    "# SNR vs LBol\n",
    "sns.scatterplot(data=agn_dataframe, x='SNR', y ='log_Lbol', hue='Best Fit', ax=axs[row,0])\n",
    "axs[row, 0].set_xlim(0, 1500) \n",
    "# note: there are some outliers\n",
    "\n",
    "# LC Length vs LBol\n",
    "sns.scatterplot(data=agn_dataframe, x='LC Length', y ='log_Lbol', hue='Best Fit', ax=axs[row,1])\n",
    "\n",
    "#######\n",
    "# row 1\n",
    "#######\n",
    "row += 1\n",
    "\n",
    "# histogram of LC Length\n",
    "sns.histplot(data=agn_dataframe, x='LC Length', ax=axs[row,0])\n",
    "\n",
    "# histogram of LC Length for best fit\n",
    "sns.histplot(data=agn_dataframe, x='LC Length', hue='Best Fit', ax=axs[row,1])\n",
    "\n",
    "#######\n",
    "# row 2\n",
    "#######\n",
    "row += 1\n",
    "\n",
    "# histogram of LBol for best fit\n",
    "sns.histplot(data=agn_dataframe, x='log_Lbol', hue='Best Fit', ax=axs[row,0])\n",
    "\n",
    "# histogram of SNR for best fit\n",
    "sns.histplot(data=agn_dataframe, x='SNR', hue='Best Fit', ax=axs[row,1])\n",
    "axs[row, 1].set_xlim(0, 1500) \n",
    "# note: there are some outliers\n",
    "\n",
    "plt.savefig('plots_and_figures\\plots_mcmc.png')\n",
    "plt.show()"
   ]
  },
  {
   "cell_type": "code",
   "execution_count": null,
   "id": "4ca53934-836f-433a-b025-e8cc438bc0b5",
   "metadata": {},
   "outputs": [],
   "source": [
    "sns.catplot(data=agn_dataframe,\n",
    "            x='Best Fit', col='Lbol Ref', kind='count')"
   ]
  }
 ],
 "metadata": {
  "kernelspec": {
   "display_name": "Python 3 (ipykernel)",
   "language": "python",
   "name": "python3"
  },
  "language_info": {
   "codemirror_mode": {
    "name": "ipython",
    "version": 3
   },
   "file_extension": ".py",
   "mimetype": "text/x-python",
   "name": "python",
   "nbconvert_exporter": "python",
   "pygments_lexer": "ipython3",
   "version": "3.9.7"
  }
 },
 "nbformat": 4,
 "nbformat_minor": 5
}
